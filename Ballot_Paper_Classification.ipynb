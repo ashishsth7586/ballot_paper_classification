{
  "nbformat": 4,
  "nbformat_minor": 0,
  "metadata": {
    "colab": {
      "name": "Ballot Paper Classification",
      "version": "0.3.2",
      "provenance": [],
      "collapsed_sections": []
    },
    "kernelspec": {
      "name": "python3",
      "display_name": "Python 3"
    },
    "accelerator": "GPU"
  },
  "cells": [
    {
      "cell_type": "markdown",
      "metadata": {
        "id": "-PzNRCS1pX6N",
        "colab_type": "text"
      },
      "source": [
        "# **A PyTorch Implementation of MobileNetV2**\n",
        "\n",
        "---\n",
        "\n",
        "\n",
        "\n",
        "This is a PyTorch implementation of MobileNetV2 architecture as described in paper [Inverted Residuals and Linear Bottlenecks: Mobile Networks for Classification, Detection and Segmentation.](https://arxiv.org/pdf/1801.04381.pdf)\n",
        "\n",
        "The big idea behind MobileNet is that convolutional layers, which are essential to computer vision tasks but are quite expensive to compute, can be replaced by so-called **depthwise separable convolutions**.\n",
        "\n",
        "**MobileNetV2** uses depthwise separable convolutions, but its main building block now looks like this:\n",
        "\n",
        "![MobileNetV2](https://machinethink.net/images/mobilenet-v2/ResidualBlock@2x.png)\n",
        "\n",
        "There are three convolutional layers in the block. The last two are the ones we already know: a depthwise convolution that filters the inputs, followed by a 1×1 pointwise convolution layer. However, this 1×1 layer now has a different job.\n",
        "\n",
        "In V2 the pointwise convolution makes the number of channels smaller. This is why this layer is now known as the projection layer — it projects data with a high number of dimensions (channels) into a tensor with a much lower number of dimensions.\n",
        "\n",
        "For example, the depthwise layer may work on a tensor with 144 channels, which the projection layer will then shrink down to only 24 channels. This kind of layer is also called a bottleneck layer because it reduces the amount of data that flows through the network. (This is where the “bottleneck residual block” gets its name from: the output of each block is a bottleneck.)\n",
        "\n",
        "The first layer is the new in the block. This is also a 1×1 convolution. Its purpose is to expand the number of channels in the data before it goes into the depthwise convolution. Hence, this expansion layer always has more output channels than input channels — it pretty much does the opposite of the projection layer.\n",
        "\n",
        "Exactly by how much the data gets expanded is given by the expansion factor. This is one of those hyperparameters for experimenting with different architecture tradeoffs. The default expansion factor is 6.\n",
        "\n",
        "For example, if there is a tensor with 24 channels going into a block, the expansion layer first converts this into a new tensor with 24 * 6 = 144 channels. Next, the depthwise convolution applies its filters to that 144-channel tensor. And finally, the projection layer projects the 144 filtered channels back to a smaller number, say 24 again.\n",
        "![alt text](https://machinethink.net/images/mobilenet-v2/ExpandProject@2x.png)\n",
        "So the input and the output of the block are low-dimensional tensors, while the filtering step that happens inside block is done on a high-dimensional tensor.\n",
        "\n",
        "The second new thing in MobileNet V2’s building block is the residual connection. This works just like in ResNet and exists to help with the flow of gradients through the network. (The residual connection is only used when the number of channels going into the block is the same as the number of channels coming out of it, which is not always the case as every few blocks the output channels are increased.)\n",
        "\n",
        "As usual, each layer has batch normalization and the activation function is ReLU6. However, the output of the projection layer does not have an activation function applied to it. Since this layer produces low-dimensional data, the authors of the paper found that using a non-linearity after this layer actually destroyed useful information."
      ]
    },
    {
      "cell_type": "markdown",
      "metadata": {
        "id": "DQH-fSCh6AW7",
        "colab_type": "text"
      },
      "source": [
        "# Importing Libraries\n",
        "1. PyTorch & Torch Vision\n",
        "2. NumPy\n",
        "3. Pandas\n",
        "4. OS Module\n",
        "5. Pillow\n",
        "6. Matplotlib"
      ]
    },
    {
      "cell_type": "code",
      "metadata": {
        "id": "OIPRiJUOo8ZG",
        "colab_type": "code",
        "colab": {}
      },
      "source": [
        "import numpy as np \n",
        "import pandas as pd\n",
        "import os\n",
        "import torch\n",
        "import torchvision\n",
        "import torchvision.transforms as transforms\n",
        "from torch.utils.data import DataLoader, Dataset\n",
        "import torch.nn as nn\n",
        "from PIL import Image\n",
        "import matplotlib.pyplot as plt\n",
        "import torchvision.models as models\n",
        "import torch.nn.functional as F\n",
        "from torchsummary import summary"
      ],
      "execution_count": 0,
      "outputs": []
    },
    {
      "cell_type": "code",
      "metadata": {
        "id": "hp3XIVg86_QC",
        "colab_type": "code",
        "outputId": "b0b22b1e-d04d-4c9b-b8af-f735a693532f",
        "colab": {
          "base_uri": "https://localhost:8080/",
          "height": 34
        }
      },
      "source": [
        "# Mounting Google Drive in files directory\n",
        "from google.colab import drive\n",
        "drive.mount('/content/gdrive')"
      ],
      "execution_count": 2,
      "outputs": [
        {
          "output_type": "stream",
          "text": [
            "Mounted at /content/gdrive\n"
          ],
          "name": "stdout"
        }
      ]
    },
    {
      "cell_type": "code",
      "metadata": {
        "id": "S2Sur2oI7KMv",
        "colab_type": "code",
        "colab": {}
      },
      "source": [
        "# Checking if device (GPU or CPU) is available and assigning to device variable\n",
        "device = torch.device(\"cuda\" if torch.cuda.is_available() else \"cpu\")"
      ],
      "execution_count": 0,
      "outputs": []
    },
    {
      "cell_type": "code",
      "metadata": {
        "id": "oOH8yQFX7Teb",
        "colab_type": "code",
        "outputId": "6671d9e3-6203-45ee-95aa-62632e0014d4",
        "colab": {
          "base_uri": "https://localhost:8080/",
          "height": 34
        }
      },
      "source": [
        "pwd"
      ],
      "execution_count": 4,
      "outputs": [
        {
          "output_type": "execute_result",
          "data": {
            "text/plain": [
              "'/content'"
            ]
          },
          "metadata": {
            "tags": []
          },
          "execution_count": 4
        }
      ]
    },
    {
      "cell_type": "code",
      "metadata": {
        "id": "nSLgQ-BW7jC5",
        "colab_type": "code",
        "colab": {}
      },
      "source": [
        "# Creating Directory \"Test\"\n",
        "!mkdir Test"
      ],
      "execution_count": 0,
      "outputs": []
    },
    {
      "cell_type": "code",
      "metadata": {
        "id": "yWdUIh11CqK_",
        "colab_type": "code",
        "colab": {}
      },
      "source": [
        "# Extracting Test.tar.gz (test dataset) from drive to Test direcotry\n",
        "\n",
        "!tar -xzf \"gdrive/My Drive/Colab Notebooks/datasets/ballotpaper/Test.tar-1.gz\" -C \"Test\""
      ],
      "execution_count": 0,
      "outputs": []
    },
    {
      "cell_type": "code",
      "metadata": {
        "id": "NmaocYdsFeA0",
        "colab_type": "code",
        "colab": {}
      },
      "source": [
        "# Creating Directory \"Train\"\n",
        "!mkdir Train"
      ],
      "execution_count": 0,
      "outputs": []
    },
    {
      "cell_type": "code",
      "metadata": {
        "id": "_6IIo6ifMKUU",
        "colab_type": "code",
        "colab": {}
      },
      "source": [
        "# Extracting Train.tar.gz (Train dataset) from drive to Train directory\n",
        "\n",
        "!tar -xzf \"gdrive/My Drive/Colab Notebooks/datasets/ballotpaper/Train.tar.gz\" -C \"Train\""
      ],
      "execution_count": 0,
      "outputs": []
    },
    {
      "cell_type": "code",
      "metadata": {
        "id": "hXvuLrpkMPsf",
        "colab_type": "code",
        "colab": {}
      },
      "source": [
        "# Path of csv file which contains image name and respective image label\n",
        "train_csv_path=\"Train/testset.csv\"\n",
        "test_csv_path=\"Test/testset.csv\""
      ],
      "execution_count": 0,
      "outputs": []
    },
    {
      "cell_type": "code",
      "metadata": {
        "id": "109klXo2MS0N",
        "colab_type": "code",
        "colab": {}
      },
      "source": [
        "# Reading csv contents using pandas\n",
        "# By default it converts into pandas' dataframe\n",
        "\n",
        "train_set=pd.read_csv(train_csv_path)\n",
        "test_set=pd.read_csv(test_csv_path)"
      ],
      "execution_count": 0,
      "outputs": []
    },
    {
      "cell_type": "code",
      "metadata": {
        "id": "_RqZM1uxMVfX",
        "colab_type": "code",
        "outputId": "399ec992-fb74-465f-edf3-5e782dfae495",
        "colab": {
          "base_uri": "https://localhost:8080/",
          "height": 204
        }
      },
      "source": [
        "train_set.head()"
      ],
      "execution_count": 55,
      "outputs": [
        {
          "output_type": "execute_result",
          "data": {
            "text/html": [
              "<div>\n",
              "<style scoped>\n",
              "    .dataframe tbody tr th:only-of-type {\n",
              "        vertical-align: middle;\n",
              "    }\n",
              "\n",
              "    .dataframe tbody tr th {\n",
              "        vertical-align: top;\n",
              "    }\n",
              "\n",
              "    .dataframe thead th {\n",
              "        text-align: right;\n",
              "    }\n",
              "</style>\n",
              "<table border=\"1\" class=\"dataframe\">\n",
              "  <thead>\n",
              "    <tr style=\"text-align: right;\">\n",
              "      <th></th>\n",
              "      <th>Data</th>\n",
              "      <th>Label</th>\n",
              "    </tr>\n",
              "  </thead>\n",
              "  <tbody>\n",
              "    <tr>\n",
              "      <th>0</th>\n",
              "      <td>600795.jpeg</td>\n",
              "      <td>10</td>\n",
              "    </tr>\n",
              "    <tr>\n",
              "      <th>1</th>\n",
              "      <td>627152.jpeg</td>\n",
              "      <td>10</td>\n",
              "    </tr>\n",
              "    <tr>\n",
              "      <th>2</th>\n",
              "      <td>119963.jpeg</td>\n",
              "      <td>10</td>\n",
              "    </tr>\n",
              "    <tr>\n",
              "      <th>3</th>\n",
              "      <td>118264.jpeg</td>\n",
              "      <td>10</td>\n",
              "    </tr>\n",
              "    <tr>\n",
              "      <th>4</th>\n",
              "      <td>199420.jpeg</td>\n",
              "      <td>10</td>\n",
              "    </tr>\n",
              "  </tbody>\n",
              "</table>\n",
              "</div>"
            ],
            "text/plain": [
              "          Data  Label\n",
              "0  600795.jpeg     10\n",
              "1  627152.jpeg     10\n",
              "2  119963.jpeg     10\n",
              "3  118264.jpeg     10\n",
              "4  199420.jpeg     10"
            ]
          },
          "metadata": {
            "tags": []
          },
          "execution_count": 55
        }
      ]
    },
    {
      "cell_type": "code",
      "metadata": {
        "id": "I7PJzyZGMY-G",
        "colab_type": "code",
        "colab": {}
      },
      "source": [
        "# Selection of 20% random Sample from train data for validation purpose\n",
        "val_set=train_set.sample(frac=0.2)"
      ],
      "execution_count": 0,
      "outputs": []
    },
    {
      "cell_type": "code",
      "metadata": {
        "id": "NHYrlAg2McxV",
        "colab_type": "code",
        "outputId": "0b657fb0-4123-4624-fc42-73b6f857472b",
        "colab": {
          "base_uri": "https://localhost:8080/",
          "height": 204
        }
      },
      "source": [
        "val_set.head()"
      ],
      "execution_count": 75,
      "outputs": [
        {
          "output_type": "execute_result",
          "data": {
            "text/html": [
              "<div>\n",
              "<style scoped>\n",
              "    .dataframe tbody tr th:only-of-type {\n",
              "        vertical-align: middle;\n",
              "    }\n",
              "\n",
              "    .dataframe tbody tr th {\n",
              "        vertical-align: top;\n",
              "    }\n",
              "\n",
              "    .dataframe thead th {\n",
              "        text-align: right;\n",
              "    }\n",
              "</style>\n",
              "<table border=\"1\" class=\"dataframe\">\n",
              "  <thead>\n",
              "    <tr style=\"text-align: right;\">\n",
              "      <th></th>\n",
              "      <th>Data</th>\n",
              "      <th>Label</th>\n",
              "    </tr>\n",
              "  </thead>\n",
              "  <tbody>\n",
              "    <tr>\n",
              "      <th>5547</th>\n",
              "      <td>668468.jpeg</td>\n",
              "      <td>42</td>\n",
              "    </tr>\n",
              "    <tr>\n",
              "      <th>3368</th>\n",
              "      <td>619973.jpeg</td>\n",
              "      <td>31</td>\n",
              "    </tr>\n",
              "    <tr>\n",
              "      <th>615</th>\n",
              "      <td>637986.jpeg</td>\n",
              "      <td>23</td>\n",
              "    </tr>\n",
              "    <tr>\n",
              "      <th>7112</th>\n",
              "      <td>617735.jpeg</td>\n",
              "      <td>38</td>\n",
              "    </tr>\n",
              "    <tr>\n",
              "      <th>5827</th>\n",
              "      <td>257344.jpeg</td>\n",
              "      <td>29</td>\n",
              "    </tr>\n",
              "  </tbody>\n",
              "</table>\n",
              "</div>"
            ],
            "text/plain": [
              "             Data  Label\n",
              "5547  668468.jpeg     42\n",
              "3368  619973.jpeg     31\n",
              "615   637986.jpeg     23\n",
              "7112  617735.jpeg     38\n",
              "5827  257344.jpeg     29"
            ]
          },
          "metadata": {
            "tags": []
          },
          "execution_count": 75
        }
      ]
    },
    {
      "cell_type": "code",
      "metadata": {
        "id": "Uwoiw7m-MhAR",
        "colab_type": "code",
        "outputId": "bd73bb37-ec2b-47f7-f751-3c6e4d716cf1",
        "colab": {
          "base_uri": "https://localhost:8080/",
          "height": 320
        }
      },
      "source": [
        "# Histogram Representation of Random Sample\n",
        "# Viewing if validation data is stratified or not\n",
        "\n",
        "classes = val_set[\"Label\"]\n",
        "plt.hist(classes)"
      ],
      "execution_count": 76,
      "outputs": [
        {
          "output_type": "execute_result",
          "data": {
            "text/plain": [
              "(array([200., 208., 191., 177., 206., 190., 168., 200., 194., 186.]),\n",
              " array([ 0. ,  4.7,  9.4, 14.1, 18.8, 23.5, 28.2, 32.9, 37.6, 42.3, 47. ]),\n",
              " <a list of 10 Patch objects>)"
            ]
          },
          "metadata": {
            "tags": []
          },
          "execution_count": 76
        },
        {
          "output_type": "display_data",
          "data": {
            "image/png": "[encoded data removed]",
            "text/plain": [
              "<Figure size 432x288 with 1 Axes>"
            ]
          },
          "metadata": {
            "tags": []
          }
        }
      ]
    },
    {
      "cell_type": "code",
      "metadata": {
        "id": "zSe0ra3BMkgH",
        "colab_type": "code",
        "colab": {}
      },
      "source": [
        "# Removing the data from Train set that are taken for validation\n",
        "# to avoid duplication and overlapping of data\n",
        "train_set=train_set.drop(val_set.index)"
      ],
      "execution_count": 0,
      "outputs": []
    },
    {
      "cell_type": "code",
      "metadata": {
        "id": "OhZB9DyiMr6h",
        "colab_type": "code",
        "outputId": "eb7fc9ce-1dea-483b-ce85-570f05f49e62",
        "colab": {
          "base_uri": "https://localhost:8080/",
          "height": 34
        }
      },
      "source": [
        "# After Dropping the duplicate data, the new shape of train set\n",
        "train_set.shape"
      ],
      "execution_count": 16,
      "outputs": [
        {
          "output_type": "execute_result",
          "data": {
            "text/plain": [
              "(7680, 2)"
            ]
          },
          "metadata": {
            "tags": []
          },
          "execution_count": 16
        }
      ]
    },
    {
      "cell_type": "code",
      "metadata": {
        "id": "MchTa-lHMtrf",
        "colab_type": "code",
        "outputId": "4ecd75d2-d85c-4788-fc67-293efbb29adc",
        "colab": {
          "base_uri": "https://localhost:8080/",
          "height": 34
        }
      },
      "source": [
        "# Checking test data shape\n",
        "test_set.shape"
      ],
      "execution_count": 17,
      "outputs": [
        {
          "output_type": "execute_result",
          "data": {
            "text/plain": [
              "(2609, 2)"
            ]
          },
          "metadata": {
            "tags": []
          },
          "execution_count": 17
        }
      ]
    },
    {
      "cell_type": "code",
      "metadata": {
        "id": "y4of8dVMMvBL",
        "colab_type": "code",
        "outputId": "4fc72add-cf8f-4990-afd2-257200bf34a8",
        "colab": {
          "base_uri": "https://localhost:8080/",
          "height": 337
        }
      },
      "source": [
        "# Histogram Representation of train set\n",
        "# Checking train set label's frequency\n",
        "classes = train_set[\"Label\"]\n",
        "plt.hist(classes)"
      ],
      "execution_count": 83,
      "outputs": [
        {
          "output_type": "execute_result",
          "data": {
            "text/plain": [
              "(array([1000., 1000., 1000.,  800., 1000., 1000.,  800., 1000., 1000.,\n",
              "        1000.]),\n",
              " array([ 0. ,  4.7,  9.4, 14.1, 18.8, 23.5, 28.2, 32.9, 37.6, 42.3, 47. ]),\n",
              " <a list of 10 Patch objects>)"
            ]
          },
          "metadata": {
            "tags": []
          },
          "execution_count": 83
        },
        {
          "output_type": "display_data",
          "data": {
            "image/png": "[encoded data removed]",
            "text/plain": [
              "<Figure size 432x288 with 1 Axes>"
            ]
          },
          "metadata": {
            "tags": []
          }
        }
      ]
    },
    {
      "cell_type": "code",
      "metadata": {
        "id": "yVajPDKnMwUP",
        "colab_type": "code",
        "colab": {}
      },
      "source": [
        "# Location of Images of Train & Test sets.\n",
        "TRAIN_DATA_PATH=\"Train/testset\"\n",
        "TEST_DATA_PATH=\"Test/testset\"\n"
      ],
      "execution_count": 0,
      "outputs": []
    },
    {
      "cell_type": "code",
      "metadata": {
        "id": "NOyfLKsHMyaw",
        "colab_type": "code",
        "colab": {}
      },
      "source": [
        "# Data Augmentation\n",
        "# Some random strategy applied \n",
        "# Trying to make train data as worst as possible so it even can learn in worst case\n",
        "# Normalization metrics are taken from ImageNet documentation as specified those \n",
        "# are standard and generalized\n",
        "\n",
        "TRANSFORM_IMG_train = transforms.Compose([\n",
        "    transforms.Resize((500,385)),\n",
        "    torchvision.transforms.RandomRotation((-25,25)),\n",
        "    torchvision.transforms.ColorJitter(brightness=0.05,contrast=0.5, hue=.05, saturation=.05),\n",
        "    torchvision.transforms.RandomHorizontalFlip(),\n",
        "    transforms.ToTensor(),\n",
        "    transforms.Normalize(mean=[0.485, 0.456, 0.406],\n",
        "                         std=[0.229, 0.224, 0.225] )\n",
        "    ])\n",
        "\n",
        "TRANSFORM_IMG_test = transforms.Compose([\n",
        "    transforms.Resize((500,385)),\n",
        "    transforms.ToTensor(),\n",
        "    transforms.Normalize(mean=[0.485, 0.456, 0.406],\n",
        "                         std=[0.229, 0.224, 0.225] )\n",
        "    ])"
      ],
      "execution_count": 0,
      "outputs": []
    },
    {
      "cell_type": "code",
      "metadata": {
        "id": "S7phodGKMzsn",
        "colab_type": "code",
        "colab": {}
      },
      "source": [
        "# Class to load image and its label as tensor as per csv file information\n",
        "# Converting image to tensor using PIL.Image\n",
        "\n",
        "class Ballot_Data_Load(Dataset):\n",
        "    \n",
        "    def __init__(self, data_dir_path,pd_df, img_transform):\n",
        "        self.data_dir_path=data_dir_path\n",
        "        self.df=pd_df\n",
        "        self.img_transform=img_transform\n",
        "    \n",
        "    # Required for shuffling    \n",
        "    def __len__(self):\n",
        "        return len(self.df)\n",
        "        \n",
        "    def __getitem__(self,index):\n",
        "        df_row=self.df.iloc[index,:]\n",
        "        img_name=df_row[0]\n",
        "        img_path=os.path.join(self.data_dir_path,img_name)\n",
        "        image=Image.open(img_path)\n",
        "        image=self.img_transform(image)\n",
        "        label=df_row[1]\n",
        "        return (image,label)\n",
        "        "
      ],
      "execution_count": 0,
      "outputs": []
    },
    {
      "cell_type": "code",
      "metadata": {
        "id": "H8oiT7lqM1ZQ",
        "colab_type": "code",
        "colab": {}
      },
      "source": [
        "# Object of train and test set to load tensor data of image and label\n",
        "train_dataset=Ballot_Data_Load(TRAIN_DATA_PATH,train_set,TRANSFORM_IMG_train)\n",
        "\n",
        "val_dataset=Ballot_Data_Load(TRAIN_DATA_PATH,val_set,TRANSFORM_IMG_test)\n",
        "\n",
        "test_dataset=Ballot_Data_Load(TEST_DATA_PATH,test_set,TRANSFORM_IMG_test)\n"
      ],
      "execution_count": 0,
      "outputs": []
    },
    {
      "cell_type": "code",
      "metadata": {
        "id": "oX75_JTeM21O",
        "colab_type": "code",
        "outputId": "b8cf941b-a0be-4a8a-b30e-e61112f54480",
        "colab": {
          "base_uri": "https://localhost:8080/",
          "height": 408
        }
      },
      "source": [
        "# Checking the train dataset\n",
        "# 100th Image and its tensor\n",
        "train_dataset[100][0]"
      ],
      "execution_count": 104,
      "outputs": [
        {
          "output_type": "execute_result",
          "data": {
            "text/plain": [
              "tensor([[[-1.9124, -1.9124, -1.9124,  ..., -1.9124, -1.9124, -1.9124],\n",
              "         [-1.9124, -1.9124, -1.9124,  ..., -1.9124, -1.9124, -1.9124],\n",
              "         [-1.9124, -1.9124, -1.9124,  ..., -1.9124, -1.9124, -1.9124],\n",
              "         ...,\n",
              "         [-1.9124, -1.9124, -1.9124,  ..., -1.9124, -1.9124, -1.9124],\n",
              "         [-1.9124, -1.9124, -1.9124,  ..., -1.9124, -1.9124, -1.9124],\n",
              "         [-1.9124, -1.9124, -1.9124,  ..., -1.9124, -1.9124, -1.9124]],\n",
              "\n",
              "        [[-1.8256, -1.8256, -1.8256,  ..., -1.8256, -1.8256, -1.8256],\n",
              "         [-1.8256, -1.8256, -1.8256,  ..., -1.8256, -1.8256, -1.8256],\n",
              "         [-1.8256, -1.8256, -1.8256,  ..., -1.8256, -1.8256, -1.8256],\n",
              "         ...,\n",
              "         [-1.8256, -1.8256, -1.8256,  ..., -1.8256, -1.8256, -1.8256],\n",
              "         [-1.8256, -1.8256, -1.8256,  ..., -1.8256, -1.8256, -1.8256],\n",
              "         [-1.8256, -1.8256, -1.8256,  ..., -1.8256, -1.8256, -1.8256]],\n",
              "\n",
              "        [[-1.5953, -1.5953, -1.5953,  ..., -1.5953, -1.5953, -1.5953],\n",
              "         [-1.5953, -1.5953, -1.5953,  ..., -1.5953, -1.5953, -1.5953],\n",
              "         [-1.5953, -1.5953, -1.5953,  ..., -1.5953, -1.5953, -1.5953],\n",
              "         ...,\n",
              "         [-1.5953, -1.5953, -1.5953,  ..., -1.5953, -1.5953, -1.5953],\n",
              "         [-1.5953, -1.5953, -1.5953,  ..., -1.5953, -1.5953, -1.5953],\n",
              "         [-1.5953, -1.5953, -1.5953,  ..., -1.5953, -1.5953, -1.5953]]])"
            ]
          },
          "metadata": {
            "tags": []
          },
          "execution_count": 104
        }
      ]
    },
    {
      "cell_type": "code",
      "metadata": {
        "id": "MbmsVkl_M4L-",
        "colab_type": "code",
        "colab": {}
      },
      "source": [
        "# Creating iterator object of Dataloader for creating batchsize with shuffle and assigning 3 core\n",
        "# for multiprocessing\n",
        "\n",
        "train_data_loader = DataLoader(train_dataset, batch_size=16, shuffle=True,  num_workers=3)\n",
        "\n",
        "val_data_loader = DataLoader(val_dataset, batch_size=16, shuffle=True,  num_workers=3)\n",
        "\n",
        "test_data_loader = DataLoader(test_dataset, batch_size=16, shuffle=True,  num_workers=3)\n"
      ],
      "execution_count": 0,
      "outputs": []
    },
    {
      "cell_type": "code",
      "metadata": {
        "id": "BA3BQY4LM5q3",
        "colab_type": "code",
        "outputId": "164c84bf-8356-4f21-e034-d5a4df3fe589",
        "colab": {
          "base_uri": "https://localhost:8080/",
          "height": 34
        }
      },
      "source": [
        "train_data_loader"
      ],
      "execution_count": 106,
      "outputs": [
        {
          "output_type": "execute_result",
          "data": {
            "text/plain": [
              "<torch.utils.data.dataloader.DataLoader at 0x7f01825c77f0>"
            ]
          },
          "metadata": {
            "tags": []
          },
          "execution_count": 106
        }
      ]
    },
    {
      "cell_type": "code",
      "metadata": {
        "id": "LceYZYLuM7Pp",
        "colab_type": "code",
        "outputId": "33b73353-8301-44ab-b8eb-f13d0f1342df",
        "colab": {
          "base_uri": "https://localhost:8080/",
          "height": 1000
        }
      },
      "source": [
        "# Checking iterator object of Dataloader class \n",
        "for i in train_data_loader:\n",
        "    print(i)\n",
        "    break"
      ],
      "execution_count": 107,
      "outputs": [
        {
          "output_type": "stream",
          "text": [
            "[tensor([[[[-2.0665, -2.0665, -2.0665,  ..., -2.0665, -2.0665, -2.0665],\n",
            "          [-2.0665, -2.0665, -2.0665,  ..., -2.0665, -2.0665, -2.0665],\n",
            "          [-2.0665, -2.0665, -2.0665,  ..., -2.0665, -2.0665, -2.0665],\n",
            "          ...,\n",
            "          [-2.0665, -2.0665, -2.0665,  ..., -2.0665, -2.0665, -2.0665],\n",
            "          [-2.0665, -2.0665, -2.0665,  ..., -2.0665, -2.0665, -2.0665],\n",
            "          [-2.0665, -2.0665, -2.0665,  ..., -2.0665, -2.0665, -2.0665]],\n",
            "\n",
            "         [[-1.9832, -1.9832, -1.9832,  ..., -1.9832, -1.9832, -1.9832],\n",
            "          [-1.9832, -1.9832, -1.9832,  ..., -1.9832, -1.9832, -1.9832],\n",
            "          [-1.9832, -1.9832, -1.9832,  ..., -1.9832, -1.9832, -1.9832],\n",
            "          ...,\n",
            "          [-1.9832, -1.9832, -1.9832,  ..., -1.9832, -1.9832, -1.9832],\n",
            "          [-1.9832, -1.9832, -1.9832,  ..., -1.9832, -1.9832, -1.9832],\n",
            "          [-1.9832, -1.9832, -1.9832,  ..., -1.9832, -1.9832, -1.9832]],\n",
            "\n",
            "         [[-1.7522, -1.7522, -1.7522,  ..., -1.7522, -1.7522, -1.7522],\n",
            "          [-1.7522, -1.7522, -1.7522,  ..., -1.7522, -1.7522, -1.7522],\n",
            "          [-1.7522, -1.7522, -1.7522,  ..., -1.7522, -1.7522, -1.7522],\n",
            "          ...,\n",
            "          [-1.7522, -1.7522, -1.7522,  ..., -1.7522, -1.7522, -1.7522],\n",
            "          [-1.7522, -1.7522, -1.7522,  ..., -1.7522, -1.7522, -1.7522],\n",
            "          [-1.7522, -1.7522, -1.7522,  ..., -1.7522, -1.7522, -1.7522]]],\n",
            "\n",
            "\n",
            "        [[[-1.9638, -1.9638, -1.9638,  ..., -1.9638, -1.9638, -1.9638],\n",
            "          [-1.9638, -1.9638, -1.9638,  ..., -1.9638, -1.9638, -1.9638],\n",
            "          [-1.9638, -1.9638, -1.9638,  ..., -1.9638, -1.9638, -1.9638],\n",
            "          ...,\n",
            "          [-1.9638, -1.9638, -1.9638,  ..., -1.9638, -1.9638, -1.9638],\n",
            "          [-1.9638, -1.9638, -1.9638,  ..., -1.9638, -1.9638, -1.9638],\n",
            "          [-1.9638, -1.9638, -1.9638,  ..., -1.9638, -1.9638, -1.9638]],\n",
            "\n",
            "         [[-1.8782, -1.8782, -1.8782,  ..., -1.8782, -1.8782, -1.8782],\n",
            "          [-1.8782, -1.8782, -1.8782,  ..., -1.8782, -1.8782, -1.8782],\n",
            "          [-1.8782, -1.8782, -1.8782,  ..., -1.8782, -1.8782, -1.8782],\n",
            "          ...,\n",
            "          [-1.8782, -1.8782, -1.8782,  ..., -1.8782, -1.8782, -1.8782],\n",
            "          [-1.8782, -1.8782, -1.8782,  ..., -1.8782, -1.8782, -1.8782],\n",
            "          [-1.8782, -1.8782, -1.8782,  ..., -1.8782, -1.8782, -1.8782]],\n",
            "\n",
            "         [[-1.6476, -1.6476, -1.6476,  ..., -1.6476, -1.6476, -1.6476],\n",
            "          [-1.6476, -1.6476, -1.6476,  ..., -1.6476, -1.6476, -1.6476],\n",
            "          [-1.6476, -1.6476, -1.6476,  ..., -1.6476, -1.6476, -1.6476],\n",
            "          ...,\n",
            "          [-1.6476, -1.6476, -1.6476,  ..., -1.6476, -1.6476, -1.6476],\n",
            "          [-1.6476, -1.6476, -1.6476,  ..., -1.6476, -1.6476, -1.6476],\n",
            "          [-1.6476, -1.6476, -1.6476,  ..., -1.6476, -1.6476, -1.6476]]],\n",
            "\n",
            "\n",
            "        [[[-2.1179, -2.1179, -2.1179,  ..., -2.1179, -2.1179, -2.1179],\n",
            "          [-2.1179, -2.1179, -2.1179,  ..., -2.1179, -2.1179, -2.1179],\n",
            "          [-2.1179, -2.1179, -2.1179,  ..., -2.1179, -2.1179, -2.1179],\n",
            "          ...,\n",
            "          [-2.1179, -2.1179, -2.1179,  ..., -2.1179, -2.1179, -2.1179],\n",
            "          [-2.1179, -2.1179, -2.1179,  ..., -2.1179, -2.1179, -2.1179],\n",
            "          [-2.1179, -2.1179, -2.1179,  ..., -2.1179, -2.1179, -2.1179]],\n",
            "\n",
            "         [[-2.0357, -2.0357, -2.0357,  ..., -2.0357, -2.0357, -2.0357],\n",
            "          [-2.0357, -2.0357, -2.0357,  ..., -2.0357, -2.0357, -2.0357],\n",
            "          [-2.0357, -2.0357, -2.0357,  ..., -2.0357, -2.0357, -2.0357],\n",
            "          ...,\n",
            "          [-2.0357, -2.0357, -2.0357,  ..., -2.0357, -2.0357, -2.0357],\n",
            "          [-2.0357, -2.0357, -2.0357,  ..., -2.0357, -2.0357, -2.0357],\n",
            "          [-2.0357, -2.0357, -2.0357,  ..., -2.0357, -2.0357, -2.0357]],\n",
            "\n",
            "         [[-1.8044, -1.8044, -1.8044,  ..., -1.8044, -1.8044, -1.8044],\n",
            "          [-1.8044, -1.8044, -1.8044,  ..., -1.8044, -1.8044, -1.8044],\n",
            "          [-1.8044, -1.8044, -1.8044,  ..., -1.8044, -1.8044, -1.8044],\n",
            "          ...,\n",
            "          [-1.8044, -1.8044, -1.8044,  ..., -1.8044, -1.8044, -1.8044],\n",
            "          [-1.8044, -1.8044, -1.8044,  ..., -1.8044, -1.8044, -1.8044],\n",
            "          [-1.8044, -1.8044, -1.8044,  ..., -1.8044, -1.8044, -1.8044]]],\n",
            "\n",
            "\n",
            "        ...,\n",
            "\n",
            "\n",
            "        [[[-1.2103, -1.2103, -1.2103,  ..., -1.2103, -1.2103, -1.2103],\n",
            "          [-1.2103, -1.2103, -1.2103,  ..., -1.2103, -1.2103, -1.2103],\n",
            "          [-1.2103, -1.2103, -1.2103,  ..., -1.2103, -1.2103, -1.2103],\n",
            "          ...,\n",
            "          [-1.2103, -1.2103, -1.2103,  ..., -1.2103, -1.2103, -1.2103],\n",
            "          [-1.2103, -1.2103, -1.2103,  ..., -1.2103, -1.2103, -1.2103],\n",
            "          [-1.2103, -1.2103, -1.2103,  ..., -1.2103, -1.2103, -1.2103]],\n",
            "\n",
            "         [[-1.1078, -1.1078, -1.1078,  ..., -1.1078, -1.1078, -1.1078],\n",
            "          [-1.1078, -1.1078, -1.1078,  ..., -1.1078, -1.1078, -1.1078],\n",
            "          [-1.1078, -1.1078, -1.1078,  ..., -1.1078, -1.1078, -1.1078],\n",
            "          ...,\n",
            "          [-1.1078, -1.1078, -1.1078,  ..., -1.1078, -1.1078, -1.1078],\n",
            "          [-1.1078, -1.1078, -1.1078,  ..., -1.1078, -1.1078, -1.1078],\n",
            "          [-1.1078, -1.1078, -1.1078,  ..., -1.1078, -1.1078, -1.1078]],\n",
            "\n",
            "         [[-0.8807, -0.8807, -0.8807,  ..., -0.8807, -0.8807, -0.8807],\n",
            "          [-0.8807, -0.8807, -0.8807,  ..., -0.8807, -0.8807, -0.8807],\n",
            "          [-0.8807, -0.8807, -0.8807,  ..., -0.8807, -0.8807, -0.8807],\n",
            "          ...,\n",
            "          [-0.8807, -0.8807, -0.8807,  ..., -0.8807, -0.8807, -0.8807],\n",
            "          [-0.8807, -0.8807, -0.8807,  ..., -0.8807, -0.8807, -0.8807],\n",
            "          [-0.8807, -0.8807, -0.8807,  ..., -0.8807, -0.8807, -0.8807]]],\n",
            "\n",
            "\n",
            "        [[[-0.5767, -0.5767,  1.2899,  ..., -0.5767, -0.5767, -0.5767],\n",
            "          [-0.5767, -0.5767,  1.2899,  ...,  1.2899,  1.2899,  1.2899],\n",
            "          [-0.5767, -0.5767,  1.2899,  ...,  1.2899,  1.2899,  1.2899],\n",
            "          ...,\n",
            "          [ 1.2899,  1.2899,  1.2899,  ...,  1.2899, -0.5767, -0.5767],\n",
            "          [ 1.2899,  1.2899,  1.2899,  ...,  1.2899, -0.5767, -0.5767],\n",
            "          [-0.5767, -0.5767, -0.5767,  ...,  1.2899, -0.5767, -0.5767]],\n",
            "\n",
            "         [[-0.4601, -0.4601,  1.7108,  ..., -0.4601, -0.4601, -0.4601],\n",
            "          [-0.4601, -0.4601,  1.7108,  ...,  1.6933,  1.6933,  1.6933],\n",
            "          [-0.4601, -0.4601,  1.7108,  ...,  1.6933,  1.6933,  1.6933],\n",
            "          ...,\n",
            "          [ 1.6933,  1.6933,  1.6933,  ...,  1.6933, -0.4601, -0.4601],\n",
            "          [ 1.6933,  1.6933,  1.6933,  ...,  1.6933, -0.4601, -0.4601],\n",
            "          [-0.4601, -0.4601, -0.4601,  ...,  1.6933, -0.4601, -0.4601]],\n",
            "\n",
            "         [[-0.2358, -0.2358,  2.1346,  ..., -0.2358, -0.2358, -0.2358],\n",
            "          [-0.2358, -0.2358,  2.1346,  ...,  2.0823,  2.0823,  2.0823],\n",
            "          [-0.2358, -0.2358,  2.1346,  ...,  2.0823,  2.0823,  2.0823],\n",
            "          ...,\n",
            "          [ 2.0823,  2.0823,  2.0823,  ...,  2.1346, -0.2358, -0.2358],\n",
            "          [ 2.0823,  2.0823,  2.0823,  ...,  2.1346, -0.2358, -0.2358],\n",
            "          [-0.2358, -0.2358, -0.2358,  ...,  2.1346, -0.2358, -0.2358]]],\n",
            "\n",
            "\n",
            "        [[[-0.5253, -0.5253, -0.5253,  ..., -0.5253, -0.5253, -0.5253],\n",
            "          [-0.5253, -0.5253, -0.5253,  ..., -0.5253, -0.5253, -0.5253],\n",
            "          [-0.5253, -0.5253, -0.5253,  ..., -0.5253, -0.5253, -0.5253],\n",
            "          ...,\n",
            "          [-0.5253, -0.5253, -0.5253,  ..., -0.5253, -0.5253, -0.5253],\n",
            "          [-0.5253, -0.5253, -0.5253,  ..., -0.5253, -0.5253, -0.5253],\n",
            "          [-0.5253, -0.5253, -0.5253,  ..., -0.5253, -0.5253, -0.5253]],\n",
            "\n",
            "         [[-0.4076, -0.4076, -0.4076,  ..., -0.4076, -0.4076, -0.4076],\n",
            "          [-0.4076, -0.4076, -0.4076,  ..., -0.4076, -0.4076, -0.4076],\n",
            "          [-0.4076, -0.4076, -0.4076,  ..., -0.4076, -0.4076, -0.4076],\n",
            "          ...,\n",
            "          [-0.4076, -0.4076, -0.4076,  ..., -0.4076, -0.4076, -0.4076],\n",
            "          [-0.4076, -0.4076, -0.4076,  ..., -0.4076, -0.4076, -0.4076],\n",
            "          [-0.4076, -0.4076, -0.4076,  ..., -0.4076, -0.4076, -0.4076]],\n",
            "\n",
            "         [[-0.1835, -0.1835, -0.1835,  ..., -0.1835, -0.1835, -0.1835],\n",
            "          [-0.1835, -0.1835, -0.1835,  ..., -0.1835, -0.1835, -0.1835],\n",
            "          [-0.1835, -0.1835, -0.1835,  ..., -0.1835, -0.1835, -0.1835],\n",
            "          ...,\n",
            "          [-0.1835, -0.1835, -0.1835,  ..., -0.1835, -0.1835, -0.1835],\n",
            "          [-0.1835, -0.1835, -0.1835,  ..., -0.1835, -0.1835, -0.1835],\n",
            "          [-0.1835, -0.1835, -0.1835,  ..., -0.1835, -0.1835, -0.1835]]]]), tensor([30, 28,  7, 28, 22,  5,  8, 37, 41, 18, 28, 21, 12, 27,  7, 14])]\n"
          ],
          "name": "stdout"
        }
      ]
    },
    {
      "cell_type": "code",
      "metadata": {
        "id": "YN0QrkmnM9Li",
        "colab_type": "code",
        "outputId": "f8b4f85a-5e16-47ef-cb2b-f9343fdad777",
        "colab": {
          "base_uri": "https://localhost:8080/",
          "height": 1000
        }
      },
      "source": [
        "# Here val_data_loader contains two field ,one  is tensor with 3 channel for 32 observation which is image data\n",
        "# next is label for respective 32 observation\n",
        "for i in val_data_loader:\n",
        "    print(i[0].shape)\n",
        "    print(i[1].shape)\n",
        "    print(i)\n",
        "    break"
      ],
      "execution_count": 108,
      "outputs": [
        {
          "output_type": "stream",
          "text": [
            "torch.Size([16, 3, 500, 385])\n",
            "torch.Size([16])\n",
            "[tensor([[[[2.2489, 2.2489, 2.2489,  ..., 2.1462, 2.1462, 2.1462],\n",
            "          [2.2489, 2.2489, 2.2489,  ..., 2.1804, 2.1804, 2.1804],\n",
            "          [2.2489, 2.2489, 2.2489,  ..., 2.2147, 2.2147, 2.2147],\n",
            "          ...,\n",
            "          [2.2489, 2.2489, 2.2489,  ..., 2.2489, 2.2489, 2.2489],\n",
            "          [2.2489, 2.2489, 2.2489,  ..., 2.2489, 2.2489, 2.2489],\n",
            "          [2.2489, 2.2489, 2.2489,  ..., 2.2489, 2.2489, 2.2489]],\n",
            "\n",
            "         [[2.4286, 2.4286, 2.4286,  ..., 2.4286, 2.4286, 2.4286],\n",
            "          [2.4286, 2.4286, 2.4286,  ..., 2.4286, 2.4286, 2.4286],\n",
            "          [2.4286, 2.4286, 2.4286,  ..., 2.4286, 2.4286, 2.4286],\n",
            "          ...,\n",
            "          [2.4286, 2.4286, 2.4286,  ..., 2.4286, 2.4286, 2.4286],\n",
            "          [2.4286, 2.4286, 2.4286,  ..., 2.4286, 2.4286, 2.4286],\n",
            "          [2.4286, 2.4286, 2.4286,  ..., 2.4286, 2.4286, 2.4286]],\n",
            "\n",
            "         [[2.6400, 2.6400, 2.6400,  ..., 2.6400, 2.6400, 2.6400],\n",
            "          [2.6400, 2.6400, 2.6400,  ..., 2.6400, 2.6400, 2.6400],\n",
            "          [2.6400, 2.6400, 2.6400,  ..., 2.6400, 2.6400, 2.6400],\n",
            "          ...,\n",
            "          [2.6400, 2.6400, 2.6400,  ..., 2.6400, 2.6400, 2.6400],\n",
            "          [2.6400, 2.6400, 2.6400,  ..., 2.6400, 2.6400, 2.6400],\n",
            "          [2.6400, 2.6400, 2.6400,  ..., 2.6400, 2.6400, 2.6400]]],\n",
            "\n",
            "\n",
            "        [[[2.2489, 2.2489, 2.2489,  ..., 2.2489, 2.2489, 2.2489],\n",
            "          [2.2489, 2.2489, 2.2489,  ..., 2.2489, 2.2489, 2.2489],\n",
            "          [2.2489, 2.2489, 2.2489,  ..., 2.2489, 2.2489, 2.2489],\n",
            "          ...,\n",
            "          [2.2489, 2.2489, 2.2489,  ..., 2.2489, 2.2489, 2.2489],\n",
            "          [2.2489, 2.2489, 2.2489,  ..., 2.2489, 2.2489, 2.2489],\n",
            "          [2.2489, 2.2489, 2.2489,  ..., 2.2489, 2.2489, 2.2489]],\n",
            "\n",
            "         [[2.4286, 2.4286, 2.4286,  ..., 2.4286, 2.4286, 2.4286],\n",
            "          [2.4286, 2.4286, 2.4286,  ..., 2.4286, 2.4286, 2.4286],\n",
            "          [2.4286, 2.4286, 2.4286,  ..., 2.4286, 2.4286, 2.4286],\n",
            "          ...,\n",
            "          [2.4286, 2.4286, 2.4286,  ..., 2.4286, 2.4286, 2.4286],\n",
            "          [2.4286, 2.4286, 2.4286,  ..., 2.4286, 2.4286, 2.4286],\n",
            "          [2.4286, 2.4286, 2.4286,  ..., 2.4286, 2.4286, 2.4286]],\n",
            "\n",
            "         [[2.6400, 2.6400, 2.6400,  ..., 2.6400, 2.6400, 2.6400],\n",
            "          [2.6400, 2.6400, 2.6400,  ..., 2.6400, 2.6400, 2.6400],\n",
            "          [2.6400, 2.6400, 2.6400,  ..., 2.6400, 2.6400, 2.6400],\n",
            "          ...,\n",
            "          [2.6400, 2.6400, 2.6400,  ..., 2.6400, 2.6400, 2.6400],\n",
            "          [2.6400, 2.6400, 2.6400,  ..., 2.6400, 2.6400, 2.6400],\n",
            "          [2.6400, 2.6400, 2.6400,  ..., 2.6400, 2.6400, 2.6400]]],\n",
            "\n",
            "\n",
            "        [[[2.2318, 2.1804, 2.1633,  ..., 2.2318, 2.2318, 2.2318],\n",
            "          [2.2318, 2.1804, 2.1633,  ..., 2.1804, 2.1804, 2.1804],\n",
            "          [2.2318, 2.1804, 2.1633,  ..., 2.1119, 2.1119, 2.1119],\n",
            "          ...,\n",
            "          [2.0263, 2.0263, 2.0263,  ..., 2.0948, 2.1975, 2.2489],\n",
            "          [2.1975, 2.1975, 2.1975,  ..., 2.0948, 2.1975, 2.2489],\n",
            "          [2.2489, 2.2489, 2.2489,  ..., 2.0948, 2.1975, 2.2489]],\n",
            "\n",
            "         [[2.4286, 2.3936, 2.4286,  ..., 2.4286, 2.4286, 2.4286],\n",
            "          [2.4286, 2.3936, 2.4286,  ..., 2.4111, 2.4111, 2.4111],\n",
            "          [2.4286, 2.3936, 2.4286,  ..., 2.4286, 2.4286, 2.4286],\n",
            "          ...,\n",
            "          [2.3761, 2.3761, 2.3761,  ..., 2.3936, 2.4111, 2.4286],\n",
            "          [2.4286, 2.4286, 2.4286,  ..., 2.3936, 2.4111, 2.4286],\n",
            "          [2.4286, 2.4286, 2.4286,  ..., 2.3936, 2.4111, 2.4286]],\n",
            "\n",
            "         [[2.5354, 2.5529, 2.6400,  ..., 2.5529, 2.5529, 2.5529],\n",
            "          [2.5354, 2.5529, 2.6400,  ..., 2.5703, 2.5703, 2.5703],\n",
            "          [2.5354, 2.5529, 2.6400,  ..., 2.6400, 2.6400, 2.6400],\n",
            "          ...,\n",
            "          [2.6051, 2.6051, 2.6051,  ..., 2.6051, 2.5703, 2.5529],\n",
            "          [2.6226, 2.6226, 2.6226,  ..., 2.6051, 2.5703, 2.5529],\n",
            "          [2.5703, 2.5703, 2.5703,  ..., 2.6051, 2.5703, 2.5529]]],\n",
            "\n",
            "\n",
            "        ...,\n",
            "\n",
            "\n",
            "        [[[2.2489, 2.2489, 2.2489,  ..., 2.2489, 2.2489, 2.2489],\n",
            "          [2.2489, 2.2489, 2.2489,  ..., 2.2489, 2.2489, 2.2489],\n",
            "          [2.2489, 2.2489, 2.2489,  ..., 2.2489, 2.2489, 2.2489],\n",
            "          ...,\n",
            "          [2.2489, 2.2489, 2.2489,  ..., 2.2489, 2.2489, 2.2489],\n",
            "          [2.2489, 2.2489, 2.2489,  ..., 2.2489, 2.2489, 2.2489],\n",
            "          [2.2489, 2.2489, 2.2489,  ..., 2.2489, 2.2489, 2.2489]],\n",
            "\n",
            "         [[2.4286, 2.4286, 2.4286,  ..., 2.4286, 2.4286, 2.4286],\n",
            "          [2.4286, 2.4286, 2.4286,  ..., 2.4286, 2.4286, 2.4286],\n",
            "          [2.4286, 2.4286, 2.4286,  ..., 2.4286, 2.4286, 2.4286],\n",
            "          ...,\n",
            "          [2.4286, 2.4286, 2.4286,  ..., 2.4286, 2.4286, 2.4286],\n",
            "          [2.4286, 2.4286, 2.4286,  ..., 2.4286, 2.4286, 2.4286],\n",
            "          [2.4286, 2.4286, 2.4286,  ..., 2.4286, 2.4286, 2.4286]],\n",
            "\n",
            "         [[2.6400, 2.6400, 2.6400,  ..., 2.6400, 2.6400, 2.6400],\n",
            "          [2.6400, 2.6400, 2.6400,  ..., 2.6400, 2.6400, 2.6400],\n",
            "          [2.6400, 2.6400, 2.6400,  ..., 2.6400, 2.6400, 2.6400],\n",
            "          ...,\n",
            "          [2.6400, 2.6400, 2.6400,  ..., 2.6400, 2.6400, 2.6400],\n",
            "          [2.6400, 2.6400, 2.6400,  ..., 2.6400, 2.6400, 2.6400],\n",
            "          [2.6400, 2.6400, 2.6400,  ..., 2.6400, 2.6400, 2.6400]]],\n",
            "\n",
            "\n",
            "        [[[2.2318, 2.2318, 2.2318,  ..., 2.2489, 2.2489, 2.2489],\n",
            "          [2.2318, 2.2318, 2.2318,  ..., 2.2489, 2.2489, 2.2489],\n",
            "          [2.2489, 2.2489, 2.2489,  ..., 2.2489, 2.2489, 2.2489],\n",
            "          ...,\n",
            "          [2.2489, 2.2489, 2.2489,  ..., 2.2489, 2.2489, 2.2489],\n",
            "          [2.2489, 2.2489, 2.2489,  ..., 2.2489, 2.2489, 2.2489],\n",
            "          [2.2489, 2.2489, 2.2489,  ..., 2.2489, 2.2489, 2.2489]],\n",
            "\n",
            "         [[2.4286, 2.4286, 2.4286,  ..., 2.4286, 2.4286, 2.4286],\n",
            "          [2.4286, 2.4286, 2.4286,  ..., 2.4286, 2.4286, 2.4286],\n",
            "          [2.4111, 2.4111, 2.4111,  ..., 2.4286, 2.4286, 2.4286],\n",
            "          ...,\n",
            "          [2.4286, 2.4286, 2.4286,  ..., 2.4286, 2.4286, 2.4286],\n",
            "          [2.4286, 2.4286, 2.4286,  ..., 2.4286, 2.4286, 2.4286],\n",
            "          [2.4286, 2.4286, 2.4286,  ..., 2.4286, 2.4286, 2.4286]],\n",
            "\n",
            "         [[2.6400, 2.6400, 2.6400,  ..., 2.6400, 2.6400, 2.6400],\n",
            "          [2.6400, 2.6400, 2.6400,  ..., 2.6400, 2.6400, 2.6400],\n",
            "          [2.6400, 2.6400, 2.6400,  ..., 2.6400, 2.6400, 2.6400],\n",
            "          ...,\n",
            "          [2.6400, 2.6400, 2.6400,  ..., 2.6400, 2.6400, 2.6400],\n",
            "          [2.6400, 2.6400, 2.6400,  ..., 2.6400, 2.6400, 2.6400],\n",
            "          [2.6400, 2.6400, 2.6400,  ..., 2.6400, 2.6400, 2.6400]]],\n",
            "\n",
            "\n",
            "        [[[2.2318, 2.2318, 2.2489,  ..., 2.2318, 2.2318, 2.2318],\n",
            "          [2.2318, 2.2318, 2.2489,  ..., 2.2147, 2.2147, 2.2147],\n",
            "          [2.2318, 2.2318, 2.2489,  ..., 2.2318, 2.2318, 2.2318],\n",
            "          ...,\n",
            "          [2.2318, 2.2318, 2.2318,  ..., 2.2489, 2.2489, 2.2489],\n",
            "          [2.2489, 2.2489, 2.2489,  ..., 2.2489, 2.2489, 2.2489],\n",
            "          [2.2489, 2.2489, 2.2489,  ..., 2.2489, 2.2489, 2.2489]],\n",
            "\n",
            "         [[2.4286, 2.4286, 2.4286,  ..., 2.3936, 2.3936, 2.3936],\n",
            "          [2.4286, 2.4286, 2.4286,  ..., 2.3761, 2.3761, 2.3761],\n",
            "          [2.4286, 2.4286, 2.4286,  ..., 2.4286, 2.4286, 2.4286],\n",
            "          ...,\n",
            "          [2.4286, 2.4286, 2.4286,  ..., 2.4286, 2.4286, 2.4286],\n",
            "          [2.4111, 2.4111, 2.4111,  ..., 2.4286, 2.4286, 2.4286],\n",
            "          [2.3936, 2.3936, 2.3936,  ..., 2.4286, 2.4286, 2.4286]],\n",
            "\n",
            "         [[2.6400, 2.6400, 2.6400,  ..., 2.6226, 2.6226, 2.6226],\n",
            "          [2.6400, 2.6400, 2.6400,  ..., 2.6051, 2.6051, 2.6051],\n",
            "          [2.6400, 2.6400, 2.6400,  ..., 2.6400, 2.6400, 2.6400],\n",
            "          ...,\n",
            "          [2.5877, 2.5877, 2.5877,  ..., 2.6400, 2.6400, 2.6400],\n",
            "          [2.5529, 2.5529, 2.5529,  ..., 2.6400, 2.6400, 2.6400],\n",
            "          [2.5529, 2.5529, 2.5529,  ..., 2.6400, 2.6400, 2.6400]]]]), tensor([37, 41, 41,  2,  8, 19, 23, 13,  8, 14, 45, 38, 28, 17,  5, 44])]\n"
          ],
          "name": "stdout"
        }
      ]
    },
    {
      "cell_type": "code",
      "metadata": {
        "id": "u3_Hn-oPM_0S",
        "colab_type": "code",
        "outputId": "572ea1b8-8b18-41cd-b87e-da5e04938f8c",
        "colab": {
          "base_uri": "https://localhost:8080/",
          "height": 1000
        }
      },
      "source": [
        "# Also iterator can be loaded, since DataLoader class create iterator it saves memory by loading\n",
        "# only the accessed instance at memory\n",
        "next(iter(test_data_loader))"
      ],
      "execution_count": 109,
      "outputs": [
        {
          "output_type": "execute_result",
          "data": {
            "text/plain": [
              "[tensor([[[[2.2489, 2.2489, 2.2489,  ..., 2.2489, 2.2489, 2.2489],\n",
              "           [2.2489, 2.2489, 2.2489,  ..., 2.2489, 2.2489, 2.2489],\n",
              "           [2.2489, 2.2489, 2.2489,  ..., 2.2489, 2.2489, 2.2489],\n",
              "           ...,\n",
              "           [2.2489, 2.2489, 2.2489,  ..., 2.2489, 2.2489, 2.2489],\n",
              "           [2.2489, 2.2489, 2.2489,  ..., 2.2489, 2.2489, 2.2489],\n",
              "           [2.2489, 2.2489, 2.2489,  ..., 2.2489, 2.2489, 2.2489]],\n",
              " \n",
              "          [[2.4286, 2.4286, 2.4286,  ..., 2.4286, 2.4286, 2.4286],\n",
              "           [2.4286, 2.4286, 2.4286,  ..., 2.4286, 2.4286, 2.4286],\n",
              "           [2.4286, 2.4286, 2.4286,  ..., 2.4286, 2.4286, 2.4286],\n",
              "           ...,\n",
              "           [2.4286, 2.4286, 2.4286,  ..., 2.4286, 2.4286, 2.4286],\n",
              "           [2.4286, 2.4286, 2.4286,  ..., 2.4286, 2.4286, 2.4286],\n",
              "           [2.4286, 2.4286, 2.4286,  ..., 2.4286, 2.4286, 2.4286]],\n",
              " \n",
              "          [[2.6400, 2.6400, 2.6400,  ..., 2.6400, 2.6400, 2.6400],\n",
              "           [2.6400, 2.6400, 2.6400,  ..., 2.6400, 2.6400, 2.6400],\n",
              "           [2.6400, 2.6400, 2.6400,  ..., 2.6400, 2.6400, 2.6400],\n",
              "           ...,\n",
              "           [2.6400, 2.6400, 2.6400,  ..., 2.6400, 2.6400, 2.6400],\n",
              "           [2.6400, 2.6400, 2.6400,  ..., 2.6400, 2.6400, 2.6400],\n",
              "           [2.6400, 2.6400, 2.6400,  ..., 2.6400, 2.6400, 2.6400]]],\n",
              " \n",
              " \n",
              "         [[[2.1804, 2.1804, 2.1804,  ..., 2.0948, 2.1975, 2.2489],\n",
              "           [2.0948, 2.0948, 2.0948,  ..., 2.0948, 2.1975, 2.2489],\n",
              "           [2.0605, 2.0605, 2.0605,  ..., 2.0948, 2.1975, 2.2489],\n",
              "           ...,\n",
              "           [2.2318, 2.1804, 2.1633,  ..., 2.0263, 2.0263, 2.0777],\n",
              "           [2.2489, 2.1975, 2.1462,  ..., 2.1975, 2.1975, 2.1975],\n",
              "           [2.2489, 2.1975, 2.1462,  ..., 2.2489, 2.2489, 2.2489]],\n",
              " \n",
              "          [[2.4286, 2.4286, 2.4286,  ..., 2.3936, 2.4111, 2.4286],\n",
              "           [2.4111, 2.4111, 2.4111,  ..., 2.3936, 2.4111, 2.4286],\n",
              "           [2.4286, 2.4286, 2.4286,  ..., 2.3936, 2.4111, 2.4286],\n",
              "           ...,\n",
              "           [2.4286, 2.3936, 2.4286,  ..., 2.3761, 2.3761, 2.4111],\n",
              "           [2.4286, 2.4111, 2.4286,  ..., 2.4286, 2.4286, 2.4286],\n",
              "           [2.4286, 2.4286, 2.4286,  ..., 2.4286, 2.4286, 2.4286]],\n",
              " \n",
              "          [[2.6400, 2.6400, 2.6400,  ..., 2.6051, 2.5703, 2.5529],\n",
              "           [2.6400, 2.6400, 2.6400,  ..., 2.6051, 2.5703, 2.5529],\n",
              "           [2.6400, 2.6400, 2.6400,  ..., 2.6051, 2.5703, 2.5529],\n",
              "           ...,\n",
              "           [2.5354, 2.5529, 2.6400,  ..., 2.6051, 2.6051, 2.6226],\n",
              "           [2.5529, 2.5703, 2.6226,  ..., 2.6226, 2.6226, 2.6226],\n",
              "           [2.5529, 2.5703, 2.6226,  ..., 2.5703, 2.5703, 2.5703]]],\n",
              " \n",
              " \n",
              "         [[[2.2318, 2.1804, 2.1633,  ..., 2.2318, 2.2318, 2.2318],\n",
              "           [2.2318, 2.1804, 2.1633,  ..., 2.1804, 2.1804, 2.1804],\n",
              "           [2.2318, 2.1804, 2.1633,  ..., 2.1119, 2.1119, 2.1119],\n",
              "           ...,\n",
              "           [2.0263, 2.0263, 2.0263,  ..., 2.0948, 2.1975, 2.2489],\n",
              "           [2.1975, 2.1975, 2.1975,  ..., 2.0948, 2.1975, 2.2489],\n",
              "           [2.2489, 2.2489, 2.2489,  ..., 2.0948, 2.1975, 2.2489]],\n",
              " \n",
              "          [[2.4286, 2.3936, 2.4286,  ..., 2.4286, 2.4286, 2.4286],\n",
              "           [2.4286, 2.3936, 2.4286,  ..., 2.4111, 2.4111, 2.4111],\n",
              "           [2.4286, 2.3936, 2.4286,  ..., 2.4286, 2.4286, 2.4286],\n",
              "           ...,\n",
              "           [2.3761, 2.3761, 2.3761,  ..., 2.3936, 2.4111, 2.4286],\n",
              "           [2.4286, 2.4286, 2.4286,  ..., 2.3936, 2.4111, 2.4286],\n",
              "           [2.4286, 2.4286, 2.4286,  ..., 2.3936, 2.4111, 2.4286]],\n",
              " \n",
              "          [[2.5354, 2.5529, 2.6400,  ..., 2.5529, 2.5529, 2.5529],\n",
              "           [2.5354, 2.5529, 2.6400,  ..., 2.5703, 2.5703, 2.5703],\n",
              "           [2.5354, 2.5529, 2.6400,  ..., 2.6400, 2.6400, 2.6400],\n",
              "           ...,\n",
              "           [2.6051, 2.6051, 2.6051,  ..., 2.6051, 2.5703, 2.5529],\n",
              "           [2.6226, 2.6226, 2.6226,  ..., 2.6051, 2.5703, 2.5529],\n",
              "           [2.5703, 2.5703, 2.5703,  ..., 2.6051, 2.5703, 2.5529]]],\n",
              " \n",
              " \n",
              "         ...,\n",
              " \n",
              " \n",
              "         [[[2.1462, 2.1462, 2.1462,  ..., 2.2489, 2.2489, 2.2489],\n",
              "           [2.1804, 2.1804, 2.1804,  ..., 2.2489, 2.2489, 2.2489],\n",
              "           [2.2147, 2.2147, 2.2147,  ..., 2.2489, 2.2489, 2.2489],\n",
              "           ...,\n",
              "           [2.2489, 2.2489, 2.2489,  ..., 2.2489, 2.2489, 2.2489],\n",
              "           [2.2489, 2.2489, 2.2489,  ..., 2.2489, 2.2489, 2.2489],\n",
              "           [2.2489, 2.2489, 2.2489,  ..., 2.2489, 2.2489, 2.2489]],\n",
              " \n",
              "          [[2.4286, 2.4286, 2.4286,  ..., 2.4286, 2.4286, 2.4286],\n",
              "           [2.4286, 2.4286, 2.4286,  ..., 2.4286, 2.4286, 2.4286],\n",
              "           [2.4286, 2.4286, 2.4286,  ..., 2.4286, 2.4286, 2.4286],\n",
              "           ...,\n",
              "           [2.4286, 2.4286, 2.4286,  ..., 2.4286, 2.4286, 2.4286],\n",
              "           [2.4286, 2.4286, 2.4286,  ..., 2.4286, 2.4286, 2.4286],\n",
              "           [2.4286, 2.4286, 2.4286,  ..., 2.4286, 2.4286, 2.4286]],\n",
              " \n",
              "          [[2.6400, 2.6400, 2.6400,  ..., 2.6400, 2.6400, 2.6400],\n",
              "           [2.6400, 2.6400, 2.6400,  ..., 2.6400, 2.6400, 2.6400],\n",
              "           [2.6400, 2.6400, 2.6400,  ..., 2.6400, 2.6400, 2.6400],\n",
              "           ...,\n",
              "           [2.6400, 2.6400, 2.6400,  ..., 2.6400, 2.6400, 2.6400],\n",
              "           [2.6400, 2.6400, 2.6400,  ..., 2.6400, 2.6400, 2.6400],\n",
              "           [2.6400, 2.6400, 2.6400,  ..., 2.6400, 2.6400, 2.6400]]],\n",
              " \n",
              " \n",
              "         [[[2.2489, 2.2489, 2.2489,  ..., 2.2489, 2.2489, 2.2489],\n",
              "           [2.2489, 2.2489, 2.2489,  ..., 2.2489, 2.2489, 2.2489],\n",
              "           [2.2489, 2.2489, 2.2489,  ..., 2.2489, 2.2489, 2.2489],\n",
              "           ...,\n",
              "           [2.2489, 2.2489, 2.2489,  ..., 2.2489, 2.2489, 2.2489],\n",
              "           [2.2489, 2.2489, 2.2489,  ..., 2.2489, 2.2489, 2.2489],\n",
              "           [2.2489, 2.2489, 2.2489,  ..., 2.2489, 2.2489, 2.2489]],\n",
              " \n",
              "          [[2.4286, 2.4286, 2.4286,  ..., 2.4286, 2.4286, 2.4286],\n",
              "           [2.4286, 2.4286, 2.4286,  ..., 2.4286, 2.4286, 2.4286],\n",
              "           [2.4286, 2.4286, 2.4286,  ..., 2.4286, 2.4286, 2.4286],\n",
              "           ...,\n",
              "           [2.4286, 2.4286, 2.4286,  ..., 2.4286, 2.4286, 2.4286],\n",
              "           [2.4286, 2.4286, 2.4286,  ..., 2.4286, 2.4286, 2.4286],\n",
              "           [2.4286, 2.4286, 2.4286,  ..., 2.4286, 2.4286, 2.4286]],\n",
              " \n",
              "          [[2.6400, 2.6400, 2.6400,  ..., 2.6400, 2.6400, 2.6400],\n",
              "           [2.6400, 2.6400, 2.6400,  ..., 2.6400, 2.6400, 2.6400],\n",
              "           [2.6400, 2.6400, 2.6400,  ..., 2.6400, 2.6400, 2.6400],\n",
              "           ...,\n",
              "           [2.6400, 2.6400, 2.6400,  ..., 2.6400, 2.6400, 2.6400],\n",
              "           [2.6400, 2.6400, 2.6400,  ..., 2.6400, 2.6400, 2.6400],\n",
              "           [2.6400, 2.6400, 2.6400,  ..., 2.6400, 2.6400, 2.6400]]],\n",
              " \n",
              " \n",
              "         [[[2.1804, 2.1804, 2.1804,  ..., 2.0948, 2.1975, 2.2489],\n",
              "           [2.0948, 2.0948, 2.0948,  ..., 2.0948, 2.1975, 2.2489],\n",
              "           [2.0605, 2.0605, 2.0605,  ..., 2.0948, 2.1975, 2.2489],\n",
              "           ...,\n",
              "           [2.2318, 2.1804, 2.1633,  ..., 2.0263, 2.0263, 2.0777],\n",
              "           [2.2489, 2.1975, 2.1462,  ..., 2.1975, 2.1975, 2.1975],\n",
              "           [2.2489, 2.1975, 2.1462,  ..., 2.2489, 2.2489, 2.2489]],\n",
              " \n",
              "          [[2.4286, 2.4286, 2.4286,  ..., 2.3936, 2.4111, 2.4286],\n",
              "           [2.4111, 2.4111, 2.4111,  ..., 2.3936, 2.4111, 2.4286],\n",
              "           [2.4286, 2.4286, 2.4286,  ..., 2.3936, 2.4111, 2.4286],\n",
              "           ...,\n",
              "           [2.4286, 2.3936, 2.4286,  ..., 2.3761, 2.3761, 2.4111],\n",
              "           [2.4286, 2.4111, 2.4286,  ..., 2.4286, 2.4286, 2.4286],\n",
              "           [2.4286, 2.4286, 2.4286,  ..., 2.4286, 2.4286, 2.4286]],\n",
              " \n",
              "          [[2.6400, 2.6400, 2.6400,  ..., 2.6051, 2.5703, 2.5529],\n",
              "           [2.6400, 2.6400, 2.6400,  ..., 2.6051, 2.5703, 2.5529],\n",
              "           [2.6400, 2.6400, 2.6400,  ..., 2.6051, 2.5703, 2.5529],\n",
              "           ...,\n",
              "           [2.5354, 2.5529, 2.6400,  ..., 2.6051, 2.6051, 2.6226],\n",
              "           [2.5529, 2.5703, 2.6226,  ..., 2.6226, 2.6226, 2.6226],\n",
              "           [2.5529, 2.5703, 2.6226,  ..., 2.5703, 2.5703, 2.5703]]]]),\n",
              " tensor([40, 40, 13, 22, 33, 37, 30, 47, 25, 29, 13, 37, 27, 47, 21, 24])]"
            ]
          },
          "metadata": {
            "tags": []
          },
          "execution_count": 109
        }
      ]
    },
    {
      "cell_type": "code",
      "metadata": {
        "id": "bVKltKtZNCMZ",
        "colab_type": "code",
        "colab": {}
      },
      "source": [
        "# Using mobilenet_v2 pretrained architecture to train model\n",
        "model=models.mobilenet_v2(pretrained=True)"
      ],
      "execution_count": 0,
      "outputs": []
    },
    {
      "cell_type": "code",
      "metadata": {
        "id": "ssN-ySrhND-7",
        "colab_type": "code",
        "colab": {}
      },
      "source": [
        "# Modifying Fully Connected layer of built-in architecture to fit for 48 class as our problem \n",
        "# is classification into 48 classes \n",
        "model.classifier=nn.Sequential(\n",
        "  nn.Dropout(p=0.2),\n",
        "  nn.Linear(in_features=1280, out_features=48, bias=True)\n",
        "  )"
      ],
      "execution_count": 0,
      "outputs": []
    },
    {
      "cell_type": "code",
      "metadata": {
        "id": "sCq5DdfHNGhC",
        "colab_type": "code",
        "outputId": "9e9d5f10-80d0-41c9-951c-23a8b3a97cbd",
        "colab": {
          "base_uri": "https://localhost:8080/",
          "height": 1000
        }
      },
      "source": [
        "# Assigning model to Gpu\n",
        "model.to(device)"
      ],
      "execution_count": 112,
      "outputs": [
        {
          "output_type": "execute_result",
          "data": {
            "text/plain": [
              "MobileNetV2(\n",
              "  (features): Sequential(\n",
              "    (0): ConvBNReLU(\n",
              "      (0): Conv2d(3, 32, kernel_size=(3, 3), stride=(2, 2), padding=(1, 1), bias=False)\n",
              "      (1): BatchNorm2d(32, eps=1e-05, momentum=0.1, affine=True, track_running_stats=True)\n",
              "      (2): ReLU6(inplace)\n",
              "    )\n",
              "    (1): InvertedResidual(\n",
              "      (conv): Sequential(\n",
              "        (0): ConvBNReLU(\n",
              "          (0): Conv2d(32, 32, kernel_size=(3, 3), stride=(1, 1), padding=(1, 1), groups=32, bias=False)\n",
              "          (1): BatchNorm2d(32, eps=1e-05, momentum=0.1, affine=True, track_running_stats=True)\n",
              "          (2): ReLU6(inplace)\n",
              "        )\n",
              "        (1): Conv2d(32, 16, kernel_size=(1, 1), stride=(1, 1), bias=False)\n",
              "        (2): BatchNorm2d(16, eps=1e-05, momentum=0.1, affine=True, track_running_stats=True)\n",
              "      )\n",
              "    )\n",
              "    (2): InvertedResidual(\n",
              "      (conv): Sequential(\n",
              "        (0): ConvBNReLU(\n",
              "          (0): Conv2d(16, 96, kernel_size=(1, 1), stride=(1, 1), bias=False)\n",
              "          (1): BatchNorm2d(96, eps=1e-05, momentum=0.1, affine=True, track_running_stats=True)\n",
              "          (2): ReLU6(inplace)\n",
              "        )\n",
              "        (1): ConvBNReLU(\n",
              "          (0): Conv2d(96, 96, kernel_size=(3, 3), stride=(2, 2), padding=(1, 1), groups=96, bias=False)\n",
              "          (1): BatchNorm2d(96, eps=1e-05, momentum=0.1, affine=True, track_running_stats=True)\n",
              "          (2): ReLU6(inplace)\n",
              "        )\n",
              "        (2): Conv2d(96, 24, kernel_size=(1, 1), stride=(1, 1), bias=False)\n",
              "        (3): BatchNorm2d(24, eps=1e-05, momentum=0.1, affine=True, track_running_stats=True)\n",
              "      )\n",
              "    )\n",
              "    (3): InvertedResidual(\n",
              "      (conv): Sequential(\n",
              "        (0): ConvBNReLU(\n",
              "          (0): Conv2d(24, 144, kernel_size=(1, 1), stride=(1, 1), bias=False)\n",
              "          (1): BatchNorm2d(144, eps=1e-05, momentum=0.1, affine=True, track_running_stats=True)\n",
              "          (2): ReLU6(inplace)\n",
              "        )\n",
              "        (1): ConvBNReLU(\n",
              "          (0): Conv2d(144, 144, kernel_size=(3, 3), stride=(1, 1), padding=(1, 1), groups=144, bias=False)\n",
              "          (1): BatchNorm2d(144, eps=1e-05, momentum=0.1, affine=True, track_running_stats=True)\n",
              "          (2): ReLU6(inplace)\n",
              "        )\n",
              "        (2): Conv2d(144, 24, kernel_size=(1, 1), stride=(1, 1), bias=False)\n",
              "        (3): BatchNorm2d(24, eps=1e-05, momentum=0.1, affine=True, track_running_stats=True)\n",
              "      )\n",
              "    )\n",
              "    (4): InvertedResidual(\n",
              "      (conv): Sequential(\n",
              "        (0): ConvBNReLU(\n",
              "          (0): Conv2d(24, 144, kernel_size=(1, 1), stride=(1, 1), bias=False)\n",
              "          (1): BatchNorm2d(144, eps=1e-05, momentum=0.1, affine=True, track_running_stats=True)\n",
              "          (2): ReLU6(inplace)\n",
              "        )\n",
              "        (1): ConvBNReLU(\n",
              "          (0): Conv2d(144, 144, kernel_size=(3, 3), stride=(2, 2), padding=(1, 1), groups=144, bias=False)\n",
              "          (1): BatchNorm2d(144, eps=1e-05, momentum=0.1, affine=True, track_running_stats=True)\n",
              "          (2): ReLU6(inplace)\n",
              "        )\n",
              "        (2): Conv2d(144, 32, kernel_size=(1, 1), stride=(1, 1), bias=False)\n",
              "        (3): BatchNorm2d(32, eps=1e-05, momentum=0.1, affine=True, track_running_stats=True)\n",
              "      )\n",
              "    )\n",
              "    (5): InvertedResidual(\n",
              "      (conv): Sequential(\n",
              "        (0): ConvBNReLU(\n",
              "          (0): Conv2d(32, 192, kernel_size=(1, 1), stride=(1, 1), bias=False)\n",
              "          (1): BatchNorm2d(192, eps=1e-05, momentum=0.1, affine=True, track_running_stats=True)\n",
              "          (2): ReLU6(inplace)\n",
              "        )\n",
              "        (1): ConvBNReLU(\n",
              "          (0): Conv2d(192, 192, kernel_size=(3, 3), stride=(1, 1), padding=(1, 1), groups=192, bias=False)\n",
              "          (1): BatchNorm2d(192, eps=1e-05, momentum=0.1, affine=True, track_running_stats=True)\n",
              "          (2): ReLU6(inplace)\n",
              "        )\n",
              "        (2): Conv2d(192, 32, kernel_size=(1, 1), stride=(1, 1), bias=False)\n",
              "        (3): BatchNorm2d(32, eps=1e-05, momentum=0.1, affine=True, track_running_stats=True)\n",
              "      )\n",
              "    )\n",
              "    (6): InvertedResidual(\n",
              "      (conv): Sequential(\n",
              "        (0): ConvBNReLU(\n",
              "          (0): Conv2d(32, 192, kernel_size=(1, 1), stride=(1, 1), bias=False)\n",
              "          (1): BatchNorm2d(192, eps=1e-05, momentum=0.1, affine=True, track_running_stats=True)\n",
              "          (2): ReLU6(inplace)\n",
              "        )\n",
              "        (1): ConvBNReLU(\n",
              "          (0): Conv2d(192, 192, kernel_size=(3, 3), stride=(1, 1), padding=(1, 1), groups=192, bias=False)\n",
              "          (1): BatchNorm2d(192, eps=1e-05, momentum=0.1, affine=True, track_running_stats=True)\n",
              "          (2): ReLU6(inplace)\n",
              "        )\n",
              "        (2): Conv2d(192, 32, kernel_size=(1, 1), stride=(1, 1), bias=False)\n",
              "        (3): BatchNorm2d(32, eps=1e-05, momentum=0.1, affine=True, track_running_stats=True)\n",
              "      )\n",
              "    )\n",
              "    (7): InvertedResidual(\n",
              "      (conv): Sequential(\n",
              "        (0): ConvBNReLU(\n",
              "          (0): Conv2d(32, 192, kernel_size=(1, 1), stride=(1, 1), bias=False)\n",
              "          (1): BatchNorm2d(192, eps=1e-05, momentum=0.1, affine=True, track_running_stats=True)\n",
              "          (2): ReLU6(inplace)\n",
              "        )\n",
              "        (1): ConvBNReLU(\n",
              "          (0): Conv2d(192, 192, kernel_size=(3, 3), stride=(2, 2), padding=(1, 1), groups=192, bias=False)\n",
              "          (1): BatchNorm2d(192, eps=1e-05, momentum=0.1, affine=True, track_running_stats=True)\n",
              "          (2): ReLU6(inplace)\n",
              "        )\n",
              "        (2): Conv2d(192, 64, kernel_size=(1, 1), stride=(1, 1), bias=False)\n",
              "        (3): BatchNorm2d(64, eps=1e-05, momentum=0.1, affine=True, track_running_stats=True)\n",
              "      )\n",
              "    )\n",
              "    (8): InvertedResidual(\n",
              "      (conv): Sequential(\n",
              "        (0): ConvBNReLU(\n",
              "          (0): Conv2d(64, 384, kernel_size=(1, 1), stride=(1, 1), bias=False)\n",
              "          (1): BatchNorm2d(384, eps=1e-05, momentum=0.1, affine=True, track_running_stats=True)\n",
              "          (2): ReLU6(inplace)\n",
              "        )\n",
              "        (1): ConvBNReLU(\n",
              "          (0): Conv2d(384, 384, kernel_size=(3, 3), stride=(1, 1), padding=(1, 1), groups=384, bias=False)\n",
              "          (1): BatchNorm2d(384, eps=1e-05, momentum=0.1, affine=True, track_running_stats=True)\n",
              "          (2): ReLU6(inplace)\n",
              "        )\n",
              "        (2): Conv2d(384, 64, kernel_size=(1, 1), stride=(1, 1), bias=False)\n",
              "        (3): BatchNorm2d(64, eps=1e-05, momentum=0.1, affine=True, track_running_stats=True)\n",
              "      )\n",
              "    )\n",
              "    (9): InvertedResidual(\n",
              "      (conv): Sequential(\n",
              "        (0): ConvBNReLU(\n",
              "          (0): Conv2d(64, 384, kernel_size=(1, 1), stride=(1, 1), bias=False)\n",
              "          (1): BatchNorm2d(384, eps=1e-05, momentum=0.1, affine=True, track_running_stats=True)\n",
              "          (2): ReLU6(inplace)\n",
              "        )\n",
              "        (1): ConvBNReLU(\n",
              "          (0): Conv2d(384, 384, kernel_size=(3, 3), stride=(1, 1), padding=(1, 1), groups=384, bias=False)\n",
              "          (1): BatchNorm2d(384, eps=1e-05, momentum=0.1, affine=True, track_running_stats=True)\n",
              "          (2): ReLU6(inplace)\n",
              "        )\n",
              "        (2): Conv2d(384, 64, kernel_size=(1, 1), stride=(1, 1), bias=False)\n",
              "        (3): BatchNorm2d(64, eps=1e-05, momentum=0.1, affine=True, track_running_stats=True)\n",
              "      )\n",
              "    )\n",
              "    (10): InvertedResidual(\n",
              "      (conv): Sequential(\n",
              "        (0): ConvBNReLU(\n",
              "          (0): Conv2d(64, 384, kernel_size=(1, 1), stride=(1, 1), bias=False)\n",
              "          (1): BatchNorm2d(384, eps=1e-05, momentum=0.1, affine=True, track_running_stats=True)\n",
              "          (2): ReLU6(inplace)\n",
              "        )\n",
              "        (1): ConvBNReLU(\n",
              "          (0): Conv2d(384, 384, kernel_size=(3, 3), stride=(1, 1), padding=(1, 1), groups=384, bias=False)\n",
              "          (1): BatchNorm2d(384, eps=1e-05, momentum=0.1, affine=True, track_running_stats=True)\n",
              "          (2): ReLU6(inplace)\n",
              "        )\n",
              "        (2): Conv2d(384, 64, kernel_size=(1, 1), stride=(1, 1), bias=False)\n",
              "        (3): BatchNorm2d(64, eps=1e-05, momentum=0.1, affine=True, track_running_stats=True)\n",
              "      )\n",
              "    )\n",
              "    (11): InvertedResidual(\n",
              "      (conv): Sequential(\n",
              "        (0): ConvBNReLU(\n",
              "          (0): Conv2d(64, 384, kernel_size=(1, 1), stride=(1, 1), bias=False)\n",
              "          (1): BatchNorm2d(384, eps=1e-05, momentum=0.1, affine=True, track_running_stats=True)\n",
              "          (2): ReLU6(inplace)\n",
              "        )\n",
              "        (1): ConvBNReLU(\n",
              "          (0): Conv2d(384, 384, kernel_size=(3, 3), stride=(1, 1), padding=(1, 1), groups=384, bias=False)\n",
              "          (1): BatchNorm2d(384, eps=1e-05, momentum=0.1, affine=True, track_running_stats=True)\n",
              "          (2): ReLU6(inplace)\n",
              "        )\n",
              "        (2): Conv2d(384, 96, kernel_size=(1, 1), stride=(1, 1), bias=False)\n",
              "        (3): BatchNorm2d(96, eps=1e-05, momentum=0.1, affine=True, track_running_stats=True)\n",
              "      )\n",
              "    )\n",
              "    (12): InvertedResidual(\n",
              "      (conv): Sequential(\n",
              "        (0): ConvBNReLU(\n",
              "          (0): Conv2d(96, 576, kernel_size=(1, 1), stride=(1, 1), bias=False)\n",
              "          (1): BatchNorm2d(576, eps=1e-05, momentum=0.1, affine=True, track_running_stats=True)\n",
              "          (2): ReLU6(inplace)\n",
              "        )\n",
              "        (1): ConvBNReLU(\n",
              "          (0): Conv2d(576, 576, kernel_size=(3, 3), stride=(1, 1), padding=(1, 1), groups=576, bias=False)\n",
              "          (1): BatchNorm2d(576, eps=1e-05, momentum=0.1, affine=True, track_running_stats=True)\n",
              "          (2): ReLU6(inplace)\n",
              "        )\n",
              "        (2): Conv2d(576, 96, kernel_size=(1, 1), stride=(1, 1), bias=False)\n",
              "        (3): BatchNorm2d(96, eps=1e-05, momentum=0.1, affine=True, track_running_stats=True)\n",
              "      )\n",
              "    )\n",
              "    (13): InvertedResidual(\n",
              "      (conv): Sequential(\n",
              "        (0): ConvBNReLU(\n",
              "          (0): Conv2d(96, 576, kernel_size=(1, 1), stride=(1, 1), bias=False)\n",
              "          (1): BatchNorm2d(576, eps=1e-05, momentum=0.1, affine=True, track_running_stats=True)\n",
              "          (2): ReLU6(inplace)\n",
              "        )\n",
              "        (1): ConvBNReLU(\n",
              "          (0): Conv2d(576, 576, kernel_size=(3, 3), stride=(1, 1), padding=(1, 1), groups=576, bias=False)\n",
              "          (1): BatchNorm2d(576, eps=1e-05, momentum=0.1, affine=True, track_running_stats=True)\n",
              "          (2): ReLU6(inplace)\n",
              "        )\n",
              "        (2): Conv2d(576, 96, kernel_size=(1, 1), stride=(1, 1), bias=False)\n",
              "        (3): BatchNorm2d(96, eps=1e-05, momentum=0.1, affine=True, track_running_stats=True)\n",
              "      )\n",
              "    )\n",
              "    (14): InvertedResidual(\n",
              "      (conv): Sequential(\n",
              "        (0): ConvBNReLU(\n",
              "          (0): Conv2d(96, 576, kernel_size=(1, 1), stride=(1, 1), bias=False)\n",
              "          (1): BatchNorm2d(576, eps=1e-05, momentum=0.1, affine=True, track_running_stats=True)\n",
              "          (2): ReLU6(inplace)\n",
              "        )\n",
              "        (1): ConvBNReLU(\n",
              "          (0): Conv2d(576, 576, kernel_size=(3, 3), stride=(2, 2), padding=(1, 1), groups=576, bias=False)\n",
              "          (1): BatchNorm2d(576, eps=1e-05, momentum=0.1, affine=True, track_running_stats=True)\n",
              "          (2): ReLU6(inplace)\n",
              "        )\n",
              "        (2): Conv2d(576, 160, kernel_size=(1, 1), stride=(1, 1), bias=False)\n",
              "        (3): BatchNorm2d(160, eps=1e-05, momentum=0.1, affine=True, track_running_stats=True)\n",
              "      )\n",
              "    )\n",
              "    (15): InvertedResidual(\n",
              "      (conv): Sequential(\n",
              "        (0): ConvBNReLU(\n",
              "          (0): Conv2d(160, 960, kernel_size=(1, 1), stride=(1, 1), bias=False)\n",
              "          (1): BatchNorm2d(960, eps=1e-05, momentum=0.1, affine=True, track_running_stats=True)\n",
              "          (2): ReLU6(inplace)\n",
              "        )\n",
              "        (1): ConvBNReLU(\n",
              "          (0): Conv2d(960, 960, kernel_size=(3, 3), stride=(1, 1), padding=(1, 1), groups=960, bias=False)\n",
              "          (1): BatchNorm2d(960, eps=1e-05, momentum=0.1, affine=True, track_running_stats=True)\n",
              "          (2): ReLU6(inplace)\n",
              "        )\n",
              "        (2): Conv2d(960, 160, kernel_size=(1, 1), stride=(1, 1), bias=False)\n",
              "        (3): BatchNorm2d(160, eps=1e-05, momentum=0.1, affine=True, track_running_stats=True)\n",
              "      )\n",
              "    )\n",
              "    (16): InvertedResidual(\n",
              "      (conv): Sequential(\n",
              "        (0): ConvBNReLU(\n",
              "          (0): Conv2d(160, 960, kernel_size=(1, 1), stride=(1, 1), bias=False)\n",
              "          (1): BatchNorm2d(960, eps=1e-05, momentum=0.1, affine=True, track_running_stats=True)\n",
              "          (2): ReLU6(inplace)\n",
              "        )\n",
              "        (1): ConvBNReLU(\n",
              "          (0): Conv2d(960, 960, kernel_size=(3, 3), stride=(1, 1), padding=(1, 1), groups=960, bias=False)\n",
              "          (1): BatchNorm2d(960, eps=1e-05, momentum=0.1, affine=True, track_running_stats=True)\n",
              "          (2): ReLU6(inplace)\n",
              "        )\n",
              "        (2): Conv2d(960, 160, kernel_size=(1, 1), stride=(1, 1), bias=False)\n",
              "        (3): BatchNorm2d(160, eps=1e-05, momentum=0.1, affine=True, track_running_stats=True)\n",
              "      )\n",
              "    )\n",
              "    (17): InvertedResidual(\n",
              "      (conv): Sequential(\n",
              "        (0): ConvBNReLU(\n",
              "          (0): Conv2d(160, 960, kernel_size=(1, 1), stride=(1, 1), bias=False)\n",
              "          (1): BatchNorm2d(960, eps=1e-05, momentum=0.1, affine=True, track_running_stats=True)\n",
              "          (2): ReLU6(inplace)\n",
              "        )\n",
              "        (1): ConvBNReLU(\n",
              "          (0): Conv2d(960, 960, kernel_size=(3, 3), stride=(1, 1), padding=(1, 1), groups=960, bias=False)\n",
              "          (1): BatchNorm2d(960, eps=1e-05, momentum=0.1, affine=True, track_running_stats=True)\n",
              "          (2): ReLU6(inplace)\n",
              "        )\n",
              "        (2): Conv2d(960, 320, kernel_size=(1, 1), stride=(1, 1), bias=False)\n",
              "        (3): BatchNorm2d(320, eps=1e-05, momentum=0.1, affine=True, track_running_stats=True)\n",
              "      )\n",
              "    )\n",
              "    (18): ConvBNReLU(\n",
              "      (0): Conv2d(320, 1280, kernel_size=(1, 1), stride=(1, 1), bias=False)\n",
              "      (1): BatchNorm2d(1280, eps=1e-05, momentum=0.1, affine=True, track_running_stats=True)\n",
              "      (2): ReLU6(inplace)\n",
              "    )\n",
              "  )\n",
              "  (classifier): Sequential(\n",
              "    (0): Dropout(p=0.2)\n",
              "    (1): Linear(in_features=1280, out_features=48, bias=True)\n",
              "  )\n",
              ")"
            ]
          },
          "metadata": {
            "tags": []
          },
          "execution_count": 112
        }
      ]
    },
    {
      "cell_type": "code",
      "metadata": {
        "id": "SJ6kPjuXNKgv",
        "colab_type": "code",
        "colab": {}
      },
      "source": [
        "# Defining epochs,loss and optimizer for training\n",
        "epochs = 10\n",
        "losses = nn.CrossEntropyLoss()\n",
        "optimizer = torch.optim.Adam(model.parameters(), lr=0.0001)\n"
      ],
      "execution_count": 0,
      "outputs": []
    },
    {
      "cell_type": "code",
      "metadata": {
        "id": "ff_PcUh7Nh0D",
        "colab_type": "code",
        "colab": {}
      },
      "source": [
        "# Function to calculate Loss and Accuracy\n",
        "# This function is executed after every epoch completion,loss and accuracy are returned\n",
        "# Model must be switched to evaluation mode,to stop backtracking of gradient and \n",
        "# to disable droupout and batchnormalaization\n",
        "def evaluation_test(some_test):\n",
        "  model.eval()\n",
        "  total_loss=0\n",
        "  total_correct=0\n",
        "  \n",
        "  for i,(img,lbl) in enumerate(some_test):\n",
        "    \n",
        "    correct=0\n",
        "    \n",
        "    img=img.to(device)\n",
        "    lbl=lbl.to(device)\n",
        "    \n",
        "    test_forward = model.forward(img)\n",
        "    test_loss = losses(test_forward,lbl).item()\n",
        "    total_loss += test_loss\n",
        "    \n",
        "    max_val, predict_class = torch.max(test_forward.data, 1)\n",
        "    correct=(predict_class == lbl).sum().item()/len(lbl)\n",
        "    total_correct += correct\n",
        "    \n",
        "  return (total_loss/len(some_test) , (total_correct/len(some_test)*100))\n",
        "\n",
        "\n",
        "  "
      ],
      "execution_count": 0,
      "outputs": []
    },
    {
      "cell_type": "code",
      "metadata": {
        "id": "1tg23Fe6Nqup",
        "colab_type": "code",
        "outputId": "706394fa-b1b5-4cf2-f5d8-63fdd50f6b9e",
        "colab": {
          "base_uri": "https://localhost:8080/",
          "height": 187
        }
      },
      "source": [
        "model.train()\n",
        "info_all=[]\n",
        "for epoch in range(epochs):\n",
        "  train_correct=0\n",
        "  for i, (images, labels) in enumerate(train_data_loader):\n",
        "\n",
        "\n",
        "    correct=0\n",
        "    # Clear the gradients\n",
        "    optimizer.zero_grad()\n",
        "    \n",
        "    # Assigning data and labels to device\n",
        "    images=images.to(device)\n",
        "    labels=labels.to(device)\n",
        "\n",
        "    # Forward propagation \n",
        "    outputs = model.forward(images)      \n",
        "\n",
        "\n",
        "    # Calculating loss with softmax to obtain cross entropy loss\n",
        "    loss = losses(outputs, labels)\n",
        "\n",
        "    # Backward propation\n",
        "    loss.backward()\n",
        "\n",
        "    # Updating gradients\n",
        "    optimizer.step()\n",
        "\n",
        "  \n",
        "  # Looking for loss and accuracy in entire validation set and Train set\n",
        "  train_loss,train_acc = evaluation_test(train_data_loader)\n",
        "  val_loss,val_acc = evaluation_test(val_data_loader)\n",
        "\n",
        "  # Creating a list with info of training and validation,loss and accuracy for each epoch\n",
        "  # useful for plotting the curve of epoch vs trainingloss/training accuracy\n",
        " \n",
        "  for_plot={\"epoch\":epoch+1,\"train_loss\":train_loss,\"train_accuracy\":train_acc,\n",
        "            \"val_loss\":val_loss,\"val_accuracy\":val_acc}\n",
        "  info_all.append(for_plot) \n",
        "  \n",
        "  # Switching back train mode,as on evaluation of loss & accuracy, it was\n",
        "  # switched to evaluation mode\n",
        "  model.train()\n",
        "  print('Epoch [{}/{}], TrainingLoss: {:.4f}, TrainingAccuracy: {:.2f}%,ValLoss:{:.4f},ValAccuracy:{:.2f}%'\n",
        "    .format(epoch + 1, epochs,train_loss,train_acc,val_loss,val_acc))#Train the model\n"
      ],
      "execution_count": 117,
      "outputs": [
        {
          "output_type": "stream",
          "text": [
            "Epoch [1/10], TrainingLoss: 0.0804, TrainingAccuracy: 99.68%,ValLoss:0.0754,ValAccuracy:99.43%\n",
            "Epoch [2/10], TrainingLoss: 0.0159, TrainingAccuracy: 99.91%,ValLoss:0.0116,ValAccuracy:99.90%\n",
            "Epoch [3/10], TrainingLoss: 0.0077, TrainingAccuracy: 99.94%,ValLoss:0.0110,ValAccuracy:99.84%\n",
            "Epoch [4/10], TrainingLoss: 0.0048, TrainingAccuracy: 99.98%,ValLoss:0.0024,ValAccuracy:100.00%\n",
            "Epoch [5/10], TrainingLoss: 0.0052, TrainingAccuracy: 99.93%,ValLoss:0.0027,ValAccuracy:99.90%\n",
            "Epoch [6/10], TrainingLoss: 0.0148, TrainingAccuracy: 99.77%,ValLoss:0.0200,ValAccuracy:99.64%\n",
            "Epoch [7/10], TrainingLoss: 0.0017, TrainingAccuracy: 100.00%,ValLoss:0.0013,ValAccuracy:99.95%\n",
            "Epoch [8/10], TrainingLoss: 0.0015, TrainingAccuracy: 99.99%,ValLoss:0.0003,ValAccuracy:100.00%\n",
            "Epoch [9/10], TrainingLoss: 0.0062, TrainingAccuracy: 99.96%,ValLoss:0.0011,ValAccuracy:100.00%\n",
            "Epoch [10/10], TrainingLoss: 0.0101, TrainingAccuracy: 99.84%,ValLoss:0.0043,ValAccuracy:100.00%\n"
          ],
          "name": "stdout"
        }
      ]
    },
    {
      "cell_type": "code",
      "metadata": {
        "id": "k1YL_w_5Nsji",
        "colab_type": "code",
        "colab": {}
      },
      "source": [
        "# Creating a checkpoint dictionary, saving model and its state and optimizer state as well.\n",
        "# Saving dictionary to file , extension .pth,.pt,.pkl\n",
        "checkpoint = {'model': model,\n",
        "          'state_dict': model.state_dict(),\n",
        "          'optimizer' : optimizer.state_dict()}\n",
        "\n",
        "torch.save(checkpoint, 'checkpoint.pth')"
      ],
      "execution_count": 0,
      "outputs": []
    },
    {
      "cell_type": "code",
      "metadata": {
        "id": "swE6_kiQiIzo",
        "colab_type": "code",
        "colab": {}
      },
      "source": [
        "# Loading saved model state to my_model\n",
        "# Creating model from saved state and switching it to evalulation mode for inference\n",
        "def load_checkpoint(model_path):\n",
        "  checkpoint=torch.load(model_path)\n",
        "  model=checkpoint[\"model\"]\n",
        "  \n",
        "  model.load_state_dict(checkpoint[\"state_dict\"])\n",
        "  \n",
        "  for parameter in model.parameters():\n",
        "    parameter.requires_grad=False\n",
        "\n",
        "  model.eval()\n",
        "  return model\n",
        "\n",
        "my_model=load_checkpoint(\"checkpoint.pth\")"
      ],
      "execution_count": 0,
      "outputs": []
    },
    {
      "cell_type": "code",
      "metadata": {
        "id": "A768ZjX5iRHB",
        "colab_type": "code",
        "outputId": "be16da4f-5a3a-4ca1-d907-2e3384201db2",
        "colab": {
          "base_uri": "https://localhost:8080/",
          "height": 1000
        }
      },
      "source": [
        "my_model.to(device)"
      ],
      "execution_count": 121,
      "outputs": [
        {
          "output_type": "execute_result",
          "data": {
            "text/plain": [
              "MobileNetV2(\n",
              "  (features): Sequential(\n",
              "    (0): ConvBNReLU(\n",
              "      (0): Conv2d(3, 32, kernel_size=(3, 3), stride=(2, 2), padding=(1, 1), bias=False)\n",
              "      (1): BatchNorm2d(32, eps=1e-05, momentum=0.1, affine=True, track_running_stats=True)\n",
              "      (2): ReLU6(inplace)\n",
              "    )\n",
              "    (1): InvertedResidual(\n",
              "      (conv): Sequential(\n",
              "        (0): ConvBNReLU(\n",
              "          (0): Conv2d(32, 32, kernel_size=(3, 3), stride=(1, 1), padding=(1, 1), groups=32, bias=False)\n",
              "          (1): BatchNorm2d(32, eps=1e-05, momentum=0.1, affine=True, track_running_stats=True)\n",
              "          (2): ReLU6(inplace)\n",
              "        )\n",
              "        (1): Conv2d(32, 16, kernel_size=(1, 1), stride=(1, 1), bias=False)\n",
              "        (2): BatchNorm2d(16, eps=1e-05, momentum=0.1, affine=True, track_running_stats=True)\n",
              "      )\n",
              "    )\n",
              "    (2): InvertedResidual(\n",
              "      (conv): Sequential(\n",
              "        (0): ConvBNReLU(\n",
              "          (0): Conv2d(16, 96, kernel_size=(1, 1), stride=(1, 1), bias=False)\n",
              "          (1): BatchNorm2d(96, eps=1e-05, momentum=0.1, affine=True, track_running_stats=True)\n",
              "          (2): ReLU6(inplace)\n",
              "        )\n",
              "        (1): ConvBNReLU(\n",
              "          (0): Conv2d(96, 96, kernel_size=(3, 3), stride=(2, 2), padding=(1, 1), groups=96, bias=False)\n",
              "          (1): BatchNorm2d(96, eps=1e-05, momentum=0.1, affine=True, track_running_stats=True)\n",
              "          (2): ReLU6(inplace)\n",
              "        )\n",
              "        (2): Conv2d(96, 24, kernel_size=(1, 1), stride=(1, 1), bias=False)\n",
              "        (3): BatchNorm2d(24, eps=1e-05, momentum=0.1, affine=True, track_running_stats=True)\n",
              "      )\n",
              "    )\n",
              "    (3): InvertedResidual(\n",
              "      (conv): Sequential(\n",
              "        (0): ConvBNReLU(\n",
              "          (0): Conv2d(24, 144, kernel_size=(1, 1), stride=(1, 1), bias=False)\n",
              "          (1): BatchNorm2d(144, eps=1e-05, momentum=0.1, affine=True, track_running_stats=True)\n",
              "          (2): ReLU6(inplace)\n",
              "        )\n",
              "        (1): ConvBNReLU(\n",
              "          (0): Conv2d(144, 144, kernel_size=(3, 3), stride=(1, 1), padding=(1, 1), groups=144, bias=False)\n",
              "          (1): BatchNorm2d(144, eps=1e-05, momentum=0.1, affine=True, track_running_stats=True)\n",
              "          (2): ReLU6(inplace)\n",
              "        )\n",
              "        (2): Conv2d(144, 24, kernel_size=(1, 1), stride=(1, 1), bias=False)\n",
              "        (3): BatchNorm2d(24, eps=1e-05, momentum=0.1, affine=True, track_running_stats=True)\n",
              "      )\n",
              "    )\n",
              "    (4): InvertedResidual(\n",
              "      (conv): Sequential(\n",
              "        (0): ConvBNReLU(\n",
              "          (0): Conv2d(24, 144, kernel_size=(1, 1), stride=(1, 1), bias=False)\n",
              "          (1): BatchNorm2d(144, eps=1e-05, momentum=0.1, affine=True, track_running_stats=True)\n",
              "          (2): ReLU6(inplace)\n",
              "        )\n",
              "        (1): ConvBNReLU(\n",
              "          (0): Conv2d(144, 144, kernel_size=(3, 3), stride=(2, 2), padding=(1, 1), groups=144, bias=False)\n",
              "          (1): BatchNorm2d(144, eps=1e-05, momentum=0.1, affine=True, track_running_stats=True)\n",
              "          (2): ReLU6(inplace)\n",
              "        )\n",
              "        (2): Conv2d(144, 32, kernel_size=(1, 1), stride=(1, 1), bias=False)\n",
              "        (3): BatchNorm2d(32, eps=1e-05, momentum=0.1, affine=True, track_running_stats=True)\n",
              "      )\n",
              "    )\n",
              "    (5): InvertedResidual(\n",
              "      (conv): Sequential(\n",
              "        (0): ConvBNReLU(\n",
              "          (0): Conv2d(32, 192, kernel_size=(1, 1), stride=(1, 1), bias=False)\n",
              "          (1): BatchNorm2d(192, eps=1e-05, momentum=0.1, affine=True, track_running_stats=True)\n",
              "          (2): ReLU6(inplace)\n",
              "        )\n",
              "        (1): ConvBNReLU(\n",
              "          (0): Conv2d(192, 192, kernel_size=(3, 3), stride=(1, 1), padding=(1, 1), groups=192, bias=False)\n",
              "          (1): BatchNorm2d(192, eps=1e-05, momentum=0.1, affine=True, track_running_stats=True)\n",
              "          (2): ReLU6(inplace)\n",
              "        )\n",
              "        (2): Conv2d(192, 32, kernel_size=(1, 1), stride=(1, 1), bias=False)\n",
              "        (3): BatchNorm2d(32, eps=1e-05, momentum=0.1, affine=True, track_running_stats=True)\n",
              "      )\n",
              "    )\n",
              "    (6): InvertedResidual(\n",
              "      (conv): Sequential(\n",
              "        (0): ConvBNReLU(\n",
              "          (0): Conv2d(32, 192, kernel_size=(1, 1), stride=(1, 1), bias=False)\n",
              "          (1): BatchNorm2d(192, eps=1e-05, momentum=0.1, affine=True, track_running_stats=True)\n",
              "          (2): ReLU6(inplace)\n",
              "        )\n",
              "        (1): ConvBNReLU(\n",
              "          (0): Conv2d(192, 192, kernel_size=(3, 3), stride=(1, 1), padding=(1, 1), groups=192, bias=False)\n",
              "          (1): BatchNorm2d(192, eps=1e-05, momentum=0.1, affine=True, track_running_stats=True)\n",
              "          (2): ReLU6(inplace)\n",
              "        )\n",
              "        (2): Conv2d(192, 32, kernel_size=(1, 1), stride=(1, 1), bias=False)\n",
              "        (3): BatchNorm2d(32, eps=1e-05, momentum=0.1, affine=True, track_running_stats=True)\n",
              "      )\n",
              "    )\n",
              "    (7): InvertedResidual(\n",
              "      (conv): Sequential(\n",
              "        (0): ConvBNReLU(\n",
              "          (0): Conv2d(32, 192, kernel_size=(1, 1), stride=(1, 1), bias=False)\n",
              "          (1): BatchNorm2d(192, eps=1e-05, momentum=0.1, affine=True, track_running_stats=True)\n",
              "          (2): ReLU6(inplace)\n",
              "        )\n",
              "        (1): ConvBNReLU(\n",
              "          (0): Conv2d(192, 192, kernel_size=(3, 3), stride=(2, 2), padding=(1, 1), groups=192, bias=False)\n",
              "          (1): BatchNorm2d(192, eps=1e-05, momentum=0.1, affine=True, track_running_stats=True)\n",
              "          (2): ReLU6(inplace)\n",
              "        )\n",
              "        (2): Conv2d(192, 64, kernel_size=(1, 1), stride=(1, 1), bias=False)\n",
              "        (3): BatchNorm2d(64, eps=1e-05, momentum=0.1, affine=True, track_running_stats=True)\n",
              "      )\n",
              "    )\n",
              "    (8): InvertedResidual(\n",
              "      (conv): Sequential(\n",
              "        (0): ConvBNReLU(\n",
              "          (0): Conv2d(64, 384, kernel_size=(1, 1), stride=(1, 1), bias=False)\n",
              "          (1): BatchNorm2d(384, eps=1e-05, momentum=0.1, affine=True, track_running_stats=True)\n",
              "          (2): ReLU6(inplace)\n",
              "        )\n",
              "        (1): ConvBNReLU(\n",
              "          (0): Conv2d(384, 384, kernel_size=(3, 3), stride=(1, 1), padding=(1, 1), groups=384, bias=False)\n",
              "          (1): BatchNorm2d(384, eps=1e-05, momentum=0.1, affine=True, track_running_stats=True)\n",
              "          (2): ReLU6(inplace)\n",
              "        )\n",
              "        (2): Conv2d(384, 64, kernel_size=(1, 1), stride=(1, 1), bias=False)\n",
              "        (3): BatchNorm2d(64, eps=1e-05, momentum=0.1, affine=True, track_running_stats=True)\n",
              "      )\n",
              "    )\n",
              "    (9): InvertedResidual(\n",
              "      (conv): Sequential(\n",
              "        (0): ConvBNReLU(\n",
              "          (0): Conv2d(64, 384, kernel_size=(1, 1), stride=(1, 1), bias=False)\n",
              "          (1): BatchNorm2d(384, eps=1e-05, momentum=0.1, affine=True, track_running_stats=True)\n",
              "          (2): ReLU6(inplace)\n",
              "        )\n",
              "        (1): ConvBNReLU(\n",
              "          (0): Conv2d(384, 384, kernel_size=(3, 3), stride=(1, 1), padding=(1, 1), groups=384, bias=False)\n",
              "          (1): BatchNorm2d(384, eps=1e-05, momentum=0.1, affine=True, track_running_stats=True)\n",
              "          (2): ReLU6(inplace)\n",
              "        )\n",
              "        (2): Conv2d(384, 64, kernel_size=(1, 1), stride=(1, 1), bias=False)\n",
              "        (3): BatchNorm2d(64, eps=1e-05, momentum=0.1, affine=True, track_running_stats=True)\n",
              "      )\n",
              "    )\n",
              "    (10): InvertedResidual(\n",
              "      (conv): Sequential(\n",
              "        (0): ConvBNReLU(\n",
              "          (0): Conv2d(64, 384, kernel_size=(1, 1), stride=(1, 1), bias=False)\n",
              "          (1): BatchNorm2d(384, eps=1e-05, momentum=0.1, affine=True, track_running_stats=True)\n",
              "          (2): ReLU6(inplace)\n",
              "        )\n",
              "        (1): ConvBNReLU(\n",
              "          (0): Conv2d(384, 384, kernel_size=(3, 3), stride=(1, 1), padding=(1, 1), groups=384, bias=False)\n",
              "          (1): BatchNorm2d(384, eps=1e-05, momentum=0.1, affine=True, track_running_stats=True)\n",
              "          (2): ReLU6(inplace)\n",
              "        )\n",
              "        (2): Conv2d(384, 64, kernel_size=(1, 1), stride=(1, 1), bias=False)\n",
              "        (3): BatchNorm2d(64, eps=1e-05, momentum=0.1, affine=True, track_running_stats=True)\n",
              "      )\n",
              "    )\n",
              "    (11): InvertedResidual(\n",
              "      (conv): Sequential(\n",
              "        (0): ConvBNReLU(\n",
              "          (0): Conv2d(64, 384, kernel_size=(1, 1), stride=(1, 1), bias=False)\n",
              "          (1): BatchNorm2d(384, eps=1e-05, momentum=0.1, affine=True, track_running_stats=True)\n",
              "          (2): ReLU6(inplace)\n",
              "        )\n",
              "        (1): ConvBNReLU(\n",
              "          (0): Conv2d(384, 384, kernel_size=(3, 3), stride=(1, 1), padding=(1, 1), groups=384, bias=False)\n",
              "          (1): BatchNorm2d(384, eps=1e-05, momentum=0.1, affine=True, track_running_stats=True)\n",
              "          (2): ReLU6(inplace)\n",
              "        )\n",
              "        (2): Conv2d(384, 96, kernel_size=(1, 1), stride=(1, 1), bias=False)\n",
              "        (3): BatchNorm2d(96, eps=1e-05, momentum=0.1, affine=True, track_running_stats=True)\n",
              "      )\n",
              "    )\n",
              "    (12): InvertedResidual(\n",
              "      (conv): Sequential(\n",
              "        (0): ConvBNReLU(\n",
              "          (0): Conv2d(96, 576, kernel_size=(1, 1), stride=(1, 1), bias=False)\n",
              "          (1): BatchNorm2d(576, eps=1e-05, momentum=0.1, affine=True, track_running_stats=True)\n",
              "          (2): ReLU6(inplace)\n",
              "        )\n",
              "        (1): ConvBNReLU(\n",
              "          (0): Conv2d(576, 576, kernel_size=(3, 3), stride=(1, 1), padding=(1, 1), groups=576, bias=False)\n",
              "          (1): BatchNorm2d(576, eps=1e-05, momentum=0.1, affine=True, track_running_stats=True)\n",
              "          (2): ReLU6(inplace)\n",
              "        )\n",
              "        (2): Conv2d(576, 96, kernel_size=(1, 1), stride=(1, 1), bias=False)\n",
              "        (3): BatchNorm2d(96, eps=1e-05, momentum=0.1, affine=True, track_running_stats=True)\n",
              "      )\n",
              "    )\n",
              "    (13): InvertedResidual(\n",
              "      (conv): Sequential(\n",
              "        (0): ConvBNReLU(\n",
              "          (0): Conv2d(96, 576, kernel_size=(1, 1), stride=(1, 1), bias=False)\n",
              "          (1): BatchNorm2d(576, eps=1e-05, momentum=0.1, affine=True, track_running_stats=True)\n",
              "          (2): ReLU6(inplace)\n",
              "        )\n",
              "        (1): ConvBNReLU(\n",
              "          (0): Conv2d(576, 576, kernel_size=(3, 3), stride=(1, 1), padding=(1, 1), groups=576, bias=False)\n",
              "          (1): BatchNorm2d(576, eps=1e-05, momentum=0.1, affine=True, track_running_stats=True)\n",
              "          (2): ReLU6(inplace)\n",
              "        )\n",
              "        (2): Conv2d(576, 96, kernel_size=(1, 1), stride=(1, 1), bias=False)\n",
              "        (3): BatchNorm2d(96, eps=1e-05, momentum=0.1, affine=True, track_running_stats=True)\n",
              "      )\n",
              "    )\n",
              "    (14): InvertedResidual(\n",
              "      (conv): Sequential(\n",
              "        (0): ConvBNReLU(\n",
              "          (0): Conv2d(96, 576, kernel_size=(1, 1), stride=(1, 1), bias=False)\n",
              "          (1): BatchNorm2d(576, eps=1e-05, momentum=0.1, affine=True, track_running_stats=True)\n",
              "          (2): ReLU6(inplace)\n",
              "        )\n",
              "        (1): ConvBNReLU(\n",
              "          (0): Conv2d(576, 576, kernel_size=(3, 3), stride=(2, 2), padding=(1, 1), groups=576, bias=False)\n",
              "          (1): BatchNorm2d(576, eps=1e-05, momentum=0.1, affine=True, track_running_stats=True)\n",
              "          (2): ReLU6(inplace)\n",
              "        )\n",
              "        (2): Conv2d(576, 160, kernel_size=(1, 1), stride=(1, 1), bias=False)\n",
              "        (3): BatchNorm2d(160, eps=1e-05, momentum=0.1, affine=True, track_running_stats=True)\n",
              "      )\n",
              "    )\n",
              "    (15): InvertedResidual(\n",
              "      (conv): Sequential(\n",
              "        (0): ConvBNReLU(\n",
              "          (0): Conv2d(160, 960, kernel_size=(1, 1), stride=(1, 1), bias=False)\n",
              "          (1): BatchNorm2d(960, eps=1e-05, momentum=0.1, affine=True, track_running_stats=True)\n",
              "          (2): ReLU6(inplace)\n",
              "        )\n",
              "        (1): ConvBNReLU(\n",
              "          (0): Conv2d(960, 960, kernel_size=(3, 3), stride=(1, 1), padding=(1, 1), groups=960, bias=False)\n",
              "          (1): BatchNorm2d(960, eps=1e-05, momentum=0.1, affine=True, track_running_stats=True)\n",
              "          (2): ReLU6(inplace)\n",
              "        )\n",
              "        (2): Conv2d(960, 160, kernel_size=(1, 1), stride=(1, 1), bias=False)\n",
              "        (3): BatchNorm2d(160, eps=1e-05, momentum=0.1, affine=True, track_running_stats=True)\n",
              "      )\n",
              "    )\n",
              "    (16): InvertedResidual(\n",
              "      (conv): Sequential(\n",
              "        (0): ConvBNReLU(\n",
              "          (0): Conv2d(160, 960, kernel_size=(1, 1), stride=(1, 1), bias=False)\n",
              "          (1): BatchNorm2d(960, eps=1e-05, momentum=0.1, affine=True, track_running_stats=True)\n",
              "          (2): ReLU6(inplace)\n",
              "        )\n",
              "        (1): ConvBNReLU(\n",
              "          (0): Conv2d(960, 960, kernel_size=(3, 3), stride=(1, 1), padding=(1, 1), groups=960, bias=False)\n",
              "          (1): BatchNorm2d(960, eps=1e-05, momentum=0.1, affine=True, track_running_stats=True)\n",
              "          (2): ReLU6(inplace)\n",
              "        )\n",
              "        (2): Conv2d(960, 160, kernel_size=(1, 1), stride=(1, 1), bias=False)\n",
              "        (3): BatchNorm2d(160, eps=1e-05, momentum=0.1, affine=True, track_running_stats=True)\n",
              "      )\n",
              "    )\n",
              "    (17): InvertedResidual(\n",
              "      (conv): Sequential(\n",
              "        (0): ConvBNReLU(\n",
              "          (0): Conv2d(160, 960, kernel_size=(1, 1), stride=(1, 1), bias=False)\n",
              "          (1): BatchNorm2d(960, eps=1e-05, momentum=0.1, affine=True, track_running_stats=True)\n",
              "          (2): ReLU6(inplace)\n",
              "        )\n",
              "        (1): ConvBNReLU(\n",
              "          (0): Conv2d(960, 960, kernel_size=(3, 3), stride=(1, 1), padding=(1, 1), groups=960, bias=False)\n",
              "          (1): BatchNorm2d(960, eps=1e-05, momentum=0.1, affine=True, track_running_stats=True)\n",
              "          (2): ReLU6(inplace)\n",
              "        )\n",
              "        (2): Conv2d(960, 320, kernel_size=(1, 1), stride=(1, 1), bias=False)\n",
              "        (3): BatchNorm2d(320, eps=1e-05, momentum=0.1, affine=True, track_running_stats=True)\n",
              "      )\n",
              "    )\n",
              "    (18): ConvBNReLU(\n",
              "      (0): Conv2d(320, 1280, kernel_size=(1, 1), stride=(1, 1), bias=False)\n",
              "      (1): BatchNorm2d(1280, eps=1e-05, momentum=0.1, affine=True, track_running_stats=True)\n",
              "      (2): ReLU6(inplace)\n",
              "    )\n",
              "  )\n",
              "  (classifier): Sequential(\n",
              "    (0): Dropout(p=0.2)\n",
              "    (1): Linear(in_features=1280, out_features=48, bias=True)\n",
              "  )\n",
              ")"
            ]
          },
          "metadata": {
            "tags": []
          },
          "execution_count": 121
        }
      ]
    },
    {
      "cell_type": "code",
      "metadata": {
        "id": "Rs7pWAQ9iSrB",
        "colab_type": "code",
        "outputId": "1f986dc6-15fa-4bc4-d8bc-3d91e6426956",
        "colab": {
          "base_uri": "https://localhost:8080/",
          "height": 34
        }
      },
      "source": [
        "\n",
        "# Test set accuracy\n",
        "correct=0\n",
        "for i,(imag,label) in enumerate(test_data_loader):\n",
        "  image=imag.to(device)\n",
        "  label=label.to(device)\n",
        "  output=my_model.forward(image)\n",
        "  max_val,prediction=torch.max(output.data,1)\n",
        "  correct+=(((prediction==label).sum().item())/len(label))\n",
        "print(correct/len(test_data_loader)*100)\n",
        "  "
      ],
      "execution_count": 122,
      "outputs": [
        {
          "output_type": "stream",
          "text": [
            "100.0\n"
          ],
          "name": "stdout"
        }
      ]
    },
    {
      "cell_type": "code",
      "metadata": {
        "id": "rbG8FnnUiUX3",
        "colab_type": "code",
        "colab": {}
      },
      "source": [
        "# Extracting information of training and val set from info_all list of dict\n",
        "# It contain trains and test loss/accuracy for each epoch\n",
        "train_loss=[]\n",
        "train_acc=[]\n",
        "val_loss=[]\n",
        "val_acc=[]\n",
        "for i in info_all:\n",
        "  val_loss.append(i[\"val_loss\"])\n",
        "  val_acc.append(i[\"val_accuracy\"])\n",
        "  train_loss.append(i[\"train_loss\"])\n",
        "  train_acc.append(i[\"train_accuracy\"])\n",
        " \n",
        "  "
      ],
      "execution_count": 0,
      "outputs": []
    },
    {
      "cell_type": "code",
      "metadata": {
        "id": "ZRDOlPr4iaZr",
        "colab_type": "code",
        "outputId": "d10f3500-2da5-4bb3-bb79-b9c97d31153d",
        "colab": {
          "base_uri": "https://localhost:8080/",
          "height": 350
        }
      },
      "source": [
        "# Graph Showing epoch vs loss. \n",
        "plt.figure(figsize=(8,5))\n",
        "plt.title(\"epoch vs loss curve\")\n",
        "plt.plot(range(1,11),val_loss,label=\"val_set\")\n",
        "plt.plot(range(1,11),train_loss,label=\"train_set\")\n",
        "plt.xlabel(\"epochs\")\n",
        "plt.ylabel(\"loss\")\n",
        "plt.legend()\n",
        "plt.show()"
      ],
      "execution_count": 124,
      "outputs": [
        {
          "output_type": "display_data",
          "data": {
            "image/png": "[encoded data removed]",
            "text/plain": [
              "<Figure size 576x360 with 1 Axes>"
            ]
          },
          "metadata": {
            "tags": []
          }
        }
      ]
    },
    {
      "cell_type": "code",
      "metadata": {
        "id": "y-j5_kXsibC4",
        "colab_type": "code",
        "outputId": "b66325f4-0f38-488e-8b47-b205f2d59c1a",
        "colab": {
          "base_uri": "https://localhost:8080/",
          "height": 350
        }
      },
      "source": [
        "# Graph showing epoch vs Accuracy\n",
        "plt.figure(figsize=(8,5))\n",
        "plt.title(\"epoch vs Accuracy curve\")\n",
        "plt.plot(range(1,11),val_acc,label=\"val_set\")\n",
        "plt.plot(range(1,11),train_acc,label=\"train_set\")\n",
        "plt.xlabel(\"epochs\")\n",
        "plt.ylabel(\"Accuracy\")\n",
        "plt.legend()\n",
        "plt.show()"
      ],
      "execution_count": 125,
      "outputs": [
        {
          "output_type": "display_data",
          "data": {
            "image/png": "[encoded data removed]",
            "text/plain": [
              "<Figure size 576x360 with 1 Axes>"
            ]
          },
          "metadata": {
            "tags": []
          }
        }
      ]
    },
    {
      "cell_type": "code",
      "metadata": {
        "id": "MrQKa1EyidB_",
        "colab_type": "code",
        "outputId": "85193bd7-6d02-45b6-e273-6a396f4d7eb9",
        "colab": {
          "base_uri": "https://localhost:8080/",
          "height": 1000
        }
      },
      "source": [
        "summary(my_model,input_size=(3,500,385))"
      ],
      "execution_count": 126,
      "outputs": [
        {
          "output_type": "stream",
          "text": [
            "----------------------------------------------------------------\n",
            "        Layer (type)               Output Shape         Param #\n",
            "================================================================\n",
            "            Conv2d-1         [-1, 32, 250, 193]             864\n",
            "       BatchNorm2d-2         [-1, 32, 250, 193]              64\n",
            "             ReLU6-3         [-1, 32, 250, 193]               0\n",
            "            Conv2d-4         [-1, 32, 250, 193]             288\n",
            "       BatchNorm2d-5         [-1, 32, 250, 193]              64\n",
            "             ReLU6-6         [-1, 32, 250, 193]               0\n",
            "            Conv2d-7         [-1, 16, 250, 193]             512\n",
            "       BatchNorm2d-8         [-1, 16, 250, 193]              32\n",
            "  InvertedResidual-9         [-1, 16, 250, 193]               0\n",
            "           Conv2d-10         [-1, 96, 250, 193]           1,536\n",
            "      BatchNorm2d-11         [-1, 96, 250, 193]             192\n",
            "            ReLU6-12         [-1, 96, 250, 193]               0\n",
            "           Conv2d-13          [-1, 96, 125, 97]             864\n",
            "      BatchNorm2d-14          [-1, 96, 125, 97]             192\n",
            "            ReLU6-15          [-1, 96, 125, 97]               0\n",
            "           Conv2d-16          [-1, 24, 125, 97]           2,304\n",
            "      BatchNorm2d-17          [-1, 24, 125, 97]              48\n",
            " InvertedResidual-18          [-1, 24, 125, 97]               0\n",
            "           Conv2d-19         [-1, 144, 125, 97]           3,456\n",
            "      BatchNorm2d-20         [-1, 144, 125, 97]             288\n",
            "            ReLU6-21         [-1, 144, 125, 97]               0\n",
            "           Conv2d-22         [-1, 144, 125, 97]           1,296\n",
            "      BatchNorm2d-23         [-1, 144, 125, 97]             288\n",
            "            ReLU6-24         [-1, 144, 125, 97]               0\n",
            "           Conv2d-25          [-1, 24, 125, 97]           3,456\n",
            "      BatchNorm2d-26          [-1, 24, 125, 97]              48\n",
            " InvertedResidual-27          [-1, 24, 125, 97]               0\n",
            "           Conv2d-28         [-1, 144, 125, 97]           3,456\n",
            "      BatchNorm2d-29         [-1, 144, 125, 97]             288\n",
            "            ReLU6-30         [-1, 144, 125, 97]               0\n",
            "           Conv2d-31          [-1, 144, 63, 49]           1,296\n",
            "      BatchNorm2d-32          [-1, 144, 63, 49]             288\n",
            "            ReLU6-33          [-1, 144, 63, 49]               0\n",
            "           Conv2d-34           [-1, 32, 63, 49]           4,608\n",
            "      BatchNorm2d-35           [-1, 32, 63, 49]              64\n",
            " InvertedResidual-36           [-1, 32, 63, 49]               0\n",
            "           Conv2d-37          [-1, 192, 63, 49]           6,144\n",
            "      BatchNorm2d-38          [-1, 192, 63, 49]             384\n",
            "            ReLU6-39          [-1, 192, 63, 49]               0\n",
            "           Conv2d-40          [-1, 192, 63, 49]           1,728\n",
            "      BatchNorm2d-41          [-1, 192, 63, 49]             384\n",
            "            ReLU6-42          [-1, 192, 63, 49]               0\n",
            "           Conv2d-43           [-1, 32, 63, 49]           6,144\n",
            "      BatchNorm2d-44           [-1, 32, 63, 49]              64\n",
            " InvertedResidual-45           [-1, 32, 63, 49]               0\n",
            "           Conv2d-46          [-1, 192, 63, 49]           6,144\n",
            "      BatchNorm2d-47          [-1, 192, 63, 49]             384\n",
            "            ReLU6-48          [-1, 192, 63, 49]               0\n",
            "           Conv2d-49          [-1, 192, 63, 49]           1,728\n",
            "      BatchNorm2d-50          [-1, 192, 63, 49]             384\n",
            "            ReLU6-51          [-1, 192, 63, 49]               0\n",
            "           Conv2d-52           [-1, 32, 63, 49]           6,144\n",
            "      BatchNorm2d-53           [-1, 32, 63, 49]              64\n",
            " InvertedResidual-54           [-1, 32, 63, 49]               0\n",
            "           Conv2d-55          [-1, 192, 63, 49]           6,144\n",
            "      BatchNorm2d-56          [-1, 192, 63, 49]             384\n",
            "            ReLU6-57          [-1, 192, 63, 49]               0\n",
            "           Conv2d-58          [-1, 192, 32, 25]           1,728\n",
            "      BatchNorm2d-59          [-1, 192, 32, 25]             384\n",
            "            ReLU6-60          [-1, 192, 32, 25]               0\n",
            "           Conv2d-61           [-1, 64, 32, 25]          12,288\n",
            "      BatchNorm2d-62           [-1, 64, 32, 25]             128\n",
            " InvertedResidual-63           [-1, 64, 32, 25]               0\n",
            "           Conv2d-64          [-1, 384, 32, 25]          24,576\n",
            "      BatchNorm2d-65          [-1, 384, 32, 25]             768\n",
            "            ReLU6-66          [-1, 384, 32, 25]               0\n",
            "           Conv2d-67          [-1, 384, 32, 25]           3,456\n",
            "      BatchNorm2d-68          [-1, 384, 32, 25]             768\n",
            "            ReLU6-69          [-1, 384, 32, 25]               0\n",
            "           Conv2d-70           [-1, 64, 32, 25]          24,576\n",
            "      BatchNorm2d-71           [-1, 64, 32, 25]             128\n",
            " InvertedResidual-72           [-1, 64, 32, 25]               0\n",
            "           Conv2d-73          [-1, 384, 32, 25]          24,576\n",
            "      BatchNorm2d-74          [-1, 384, 32, 25]             768\n",
            "            ReLU6-75          [-1, 384, 32, 25]               0\n",
            "           Conv2d-76          [-1, 384, 32, 25]           3,456\n",
            "      BatchNorm2d-77          [-1, 384, 32, 25]             768\n",
            "            ReLU6-78          [-1, 384, 32, 25]               0\n",
            "           Conv2d-79           [-1, 64, 32, 25]          24,576\n",
            "      BatchNorm2d-80           [-1, 64, 32, 25]             128\n",
            " InvertedResidual-81           [-1, 64, 32, 25]               0\n",
            "           Conv2d-82          [-1, 384, 32, 25]          24,576\n",
            "      BatchNorm2d-83          [-1, 384, 32, 25]             768\n",
            "            ReLU6-84          [-1, 384, 32, 25]               0\n",
            "           Conv2d-85          [-1, 384, 32, 25]           3,456\n",
            "      BatchNorm2d-86          [-1, 384, 32, 25]             768\n",
            "            ReLU6-87          [-1, 384, 32, 25]               0\n",
            "           Conv2d-88           [-1, 64, 32, 25]          24,576\n",
            "      BatchNorm2d-89           [-1, 64, 32, 25]             128\n",
            " InvertedResidual-90           [-1, 64, 32, 25]               0\n",
            "           Conv2d-91          [-1, 384, 32, 25]          24,576\n",
            "      BatchNorm2d-92          [-1, 384, 32, 25]             768\n",
            "            ReLU6-93          [-1, 384, 32, 25]               0\n",
            "           Conv2d-94          [-1, 384, 32, 25]           3,456\n",
            "      BatchNorm2d-95          [-1, 384, 32, 25]             768\n",
            "            ReLU6-96          [-1, 384, 32, 25]               0\n",
            "           Conv2d-97           [-1, 96, 32, 25]          36,864\n",
            "      BatchNorm2d-98           [-1, 96, 32, 25]             192\n",
            " InvertedResidual-99           [-1, 96, 32, 25]               0\n",
            "          Conv2d-100          [-1, 576, 32, 25]          55,296\n",
            "     BatchNorm2d-101          [-1, 576, 32, 25]           1,152\n",
            "           ReLU6-102          [-1, 576, 32, 25]               0\n",
            "          Conv2d-103          [-1, 576, 32, 25]           5,184\n",
            "     BatchNorm2d-104          [-1, 576, 32, 25]           1,152\n",
            "           ReLU6-105          [-1, 576, 32, 25]               0\n",
            "          Conv2d-106           [-1, 96, 32, 25]          55,296\n",
            "     BatchNorm2d-107           [-1, 96, 32, 25]             192\n",
            "InvertedResidual-108           [-1, 96, 32, 25]               0\n",
            "          Conv2d-109          [-1, 576, 32, 25]          55,296\n",
            "     BatchNorm2d-110          [-1, 576, 32, 25]           1,152\n",
            "           ReLU6-111          [-1, 576, 32, 25]               0\n",
            "          Conv2d-112          [-1, 576, 32, 25]           5,184\n",
            "     BatchNorm2d-113          [-1, 576, 32, 25]           1,152\n",
            "           ReLU6-114          [-1, 576, 32, 25]               0\n",
            "          Conv2d-115           [-1, 96, 32, 25]          55,296\n",
            "     BatchNorm2d-116           [-1, 96, 32, 25]             192\n",
            "InvertedResidual-117           [-1, 96, 32, 25]               0\n",
            "          Conv2d-118          [-1, 576, 32, 25]          55,296\n",
            "     BatchNorm2d-119          [-1, 576, 32, 25]           1,152\n",
            "           ReLU6-120          [-1, 576, 32, 25]               0\n",
            "          Conv2d-121          [-1, 576, 16, 13]           5,184\n",
            "     BatchNorm2d-122          [-1, 576, 16, 13]           1,152\n",
            "           ReLU6-123          [-1, 576, 16, 13]               0\n",
            "          Conv2d-124          [-1, 160, 16, 13]          92,160\n",
            "     BatchNorm2d-125          [-1, 160, 16, 13]             320\n",
            "InvertedResidual-126          [-1, 160, 16, 13]               0\n",
            "          Conv2d-127          [-1, 960, 16, 13]         153,600\n",
            "     BatchNorm2d-128          [-1, 960, 16, 13]           1,920\n",
            "           ReLU6-129          [-1, 960, 16, 13]               0\n",
            "          Conv2d-130          [-1, 960, 16, 13]           8,640\n",
            "     BatchNorm2d-131          [-1, 960, 16, 13]           1,920\n",
            "           ReLU6-132          [-1, 960, 16, 13]               0\n",
            "          Conv2d-133          [-1, 160, 16, 13]         153,600\n",
            "     BatchNorm2d-134          [-1, 160, 16, 13]             320\n",
            "InvertedResidual-135          [-1, 160, 16, 13]               0\n",
            "          Conv2d-136          [-1, 960, 16, 13]         153,600\n",
            "     BatchNorm2d-137          [-1, 960, 16, 13]           1,920\n",
            "           ReLU6-138          [-1, 960, 16, 13]               0\n",
            "          Conv2d-139          [-1, 960, 16, 13]           8,640\n",
            "     BatchNorm2d-140          [-1, 960, 16, 13]           1,920\n",
            "           ReLU6-141          [-1, 960, 16, 13]               0\n",
            "          Conv2d-142          [-1, 160, 16, 13]         153,600\n",
            "     BatchNorm2d-143          [-1, 160, 16, 13]             320\n",
            "InvertedResidual-144          [-1, 160, 16, 13]               0\n",
            "          Conv2d-145          [-1, 960, 16, 13]         153,600\n",
            "     BatchNorm2d-146          [-1, 960, 16, 13]           1,920\n",
            "           ReLU6-147          [-1, 960, 16, 13]               0\n",
            "          Conv2d-148          [-1, 960, 16, 13]           8,640\n",
            "     BatchNorm2d-149          [-1, 960, 16, 13]           1,920\n",
            "           ReLU6-150          [-1, 960, 16, 13]               0\n",
            "          Conv2d-151          [-1, 320, 16, 13]         307,200\n",
            "     BatchNorm2d-152          [-1, 320, 16, 13]             640\n",
            "InvertedResidual-153          [-1, 320, 16, 13]               0\n",
            "          Conv2d-154         [-1, 1280, 16, 13]         409,600\n",
            "     BatchNorm2d-155         [-1, 1280, 16, 13]           2,560\n",
            "           ReLU6-156         [-1, 1280, 16, 13]               0\n",
            "         Dropout-157                 [-1, 1280]               0\n",
            "          Linear-158                   [-1, 48]          61,488\n",
            "================================================================\n",
            "Total params: 2,285,360\n",
            "Trainable params: 0\n",
            "Non-trainable params: 2,285,360\n",
            "----------------------------------------------------------------\n",
            "Input size (MB): 2.20\n",
            "Forward/backward pass size (MB): 601.54\n",
            "Params size (MB): 8.72\n",
            "Estimated Total Size (MB): 612.46\n",
            "----------------------------------------------------------------\n"
          ],
          "name": "stdout"
        }
      ]
    },
    {
      "cell_type": "code",
      "metadata": {
        "id": "w621NUSoifHF",
        "colab_type": "code",
        "colab": {}
      },
      "source": [
        ""
      ],
      "execution_count": 0,
      "outputs": []
    }
  ]
}